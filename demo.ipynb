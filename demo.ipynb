{
  "cells": [
    {
      "cell_type": "markdown",
      "id": "36a226ee",
      "metadata": {},
      "source": [
        "# What is MDAnalysis ?\n"
      ]
    },
    {
      "cell_type": "markdown",
      "id": "d3ea3333-3564-43a5-ac40-72499da03774",
      "metadata": {
        "noteable": {
          "cell_type": "markdown"
        }
      },
      "source": [
        "**MDAnalysis** is a Python open-source toolkit dedicated to the analysis of molecular dynamics trajectories. It is developed and maintained by a global community of scientists and it is free.  \n",
        "It provides powerful and flexible framework for working with MD data, allowing to analyze trajectory files from various simulation packages.  \n",
        "It was initially presented in a [paper released in 2011](https://doi.org/10.1002/jcc.21787) and a [second paper was published in 2016](https://doi.org/10.25080/majora-629e541a-00e) to describe many updates in 2016 for a better global description of the toolkit. The current version is the 2.6.1.\n",
        "\n"
      ]
    },
    {
      "cell_type": "markdown",
      "id": "cf05c22d-7508-4ce5-ae8f-401942bc01e6",
      "metadata": {
        "noteable": {
          "cell_type": "markdown"
        }
      },
      "source": [
        "# Installation"
      ]
    },
    {
      "cell_type": "markdown",
      "id": "ad6fb062-8caf-45cf-8d42-2a42df57c578",
      "metadata": {
        "noteable": {
          "cell_type": "markdown"
        }
      },
      "source": [
        "Our custom conda environment:\n",
        "We provide you a yaml file that you can use to generate a conda environment containing all the necessary packages to work with MDAnalysis.\n",
        "\n",
        "Just run this command in your terminal :\n",
        "conda env create -f mdanalysis_conda_env.yml\n",
        "\n",
        "pip:\n",
        "You can otherwise run the following command to install it with core dependencies :\n",
        "pip install --upgrade MDAnalysis"
      ]
    },
    {
      "cell_type": "markdown",
      "id": "f9635fad-78c6-4b67-a8e7-b7c47fb39dc7",
      "metadata": {
        "noteable": {
          "cell_type": "markdown"
        }
      },
      "source": [
        "# Universe\n",
        "\n",
        "The Main data structures in the User Interface are Universe and AtomGroup. With them we could do selections, units, topology I/O, trajectory I/O… \n",
        "\n",
        "Universe is a class in which the data is loaded. It is the primary object and core interface to Molecular Dynamics and used to Read topology information from a file.\n",
        "\n",
        "To create a Universe object, we need a topology file such as a PDB file that contains all static information like atoms name and mass, charges, bonds and connectivity… A trajectory file is optionally used in the creation of the Universe object but it must have the coordinates in the same order as atoms in the topology file. \n",
        "Universe has two key properties: \n",
        "\t1. atoms: Systems' atoms\n",
        "\t2. trajectory: the loaded trajectory reader\n",
        "\n",
        "There are several formats of Universe objects that one can load: \n",
        "u=Universe(topology,trajectory)\n",
        "u=Universe(pdbfile)                                                    \n",
        "u=Universe(topology,[traj1,traj2,...])                        \n",
        "u=Universe(topology,traj1,traj2,...)    "
      ]
    },
    {
      "cell_type": "code",
      "execution_count": 43,
      "id": "65e2a7dd-1fe1-433b-a40e-c65846837a94",
      "metadata": {
        "ExecuteTime": {
          "end_time": "2023-11-12T22:06:16.853440+00:00",
          "start_time": "2023-11-12T22:06:16.500419+00:00"
        },
        "noteable": {
          "cell_type": "python",
          "output_collection_id": "a69f348a-34dc-4b10-84c2-429dc8223e12"
        }
      },
      "outputs": [
        {
          "name": "stdout",
          "output_type": "stream",
          "text": [
            "<DCDReader MDAnalysis_Programmation_python_2/trajectoire_tubuline.dcd with 1000 frames of 6924 atoms>\n",
            "<ChainReader containing PDB_tubuline.pdb, trajectoire_tubuline.dcd with 1001 frames of 6924 atoms>\n"
          ]
        },
        {
          "name": "stderr",
          "output_type": "stream",
          "text": [
            "c:\\Users\\martb\\miniconda3\\envs\\mdanalysis\\Lib\\site-packages\\MDAnalysis\\coordinates\\base.py:724: UserWarning: Reader has no dt information, set to 1.0 ps\n",
            "  return self.ts.dt\n"
          ]
        }
      ],
      "source": [
        "import MDAnalysis as mda\n",
        "\n",
        "# Creation of a Universe using a topology and a trajectory file\n",
        "u = mda.Universe('MDAnalysis_Programmation_python_2/PDB_tubuline.pdb', 'MDAnalysis_Programmation_python_2/trajectoire_tubuline.dcd')\n",
        "\n",
        "# Creating a universe using only the coordinates from the second file only\n",
        "u1 = mda.Universe('MDAnalysis_Programmation_python_2/PDB_tubuline.pdb', 'MDAnalysis_Programmation_python_2/trajectoire_tubuline.dcd', all_coordinates = False)\n",
        "print(u1.trajectory)\n",
        "\n",
        "# Creating a universe using only the coordinates from both files\n",
        "u2 = mda.Universe('MDAnalysis_Programmation_python_2/PDB_tubuline.pdb', 'MDAnalysis_Programmation_python_2/trajectoire_tubuline.dcd', all_coordinates = True)\n",
        "print(u2.trajectory)"
      ]
    },
    {
      "cell_type": "code",
      "execution_count": 44,
      "id": "bd789d3a-4a8a-4953-b567-c5c063269d40",
      "metadata": {
        "ExecuteTime": {
          "end_time": "2023-11-12T17:50:47.593053+00:00",
          "start_time": "2023-11-12T17:50:47.425724+00:00"
        },
        "noteable": {
          "output_collection_id": "d18db997-6752-45c6-baaf-7706c050c1e2"
        }
      },
      "outputs": [
        {
          "data": {
            "text/plain": [
              "<Universe with 3000 atoms>"
            ]
          },
          "execution_count": 44,
          "metadata": {},
          "output_type": "execute_result"
        }
      ],
      "source": [
        "# A universe can also be created from scratch\n",
        "# In this examplewe will create a universe of 1000 water molecules\n",
        "# For this example we will need the numpy\n",
        "import numpy as np\n",
        "n_residues = 1000 # Assigning the number of water molecules\n",
        "n_atoms = n_residues * 3 # Because a Water molecule contains 3 atoms\n",
        "\n",
        "# Creating a list of indicies for the residues\n",
        "resindicies = np.repeat(range(n_residues), 3) \n",
        "assert len(resindicies) == n_atoms\n",
        "\n",
        "# Assigning the water molecules to 1 segment\n",
        "segindicies =[0] * n_residues\n",
        "\n",
        "# Creating the universe using\n",
        "sol = mda.Universe.empty(n_atoms, n_residues = n_residues, atom_resindex = resindicies, residue_segindex = segindicies)\n",
        "sol"
      ]
    },
    {
      "cell_type": "markdown",
      "id": "68d270ad-1095-4f35-be1d-503e19e541fd",
      "metadata": {
        "noteable": {
          "cell_type": "markdown"
        }
      },
      "source": [
        "# Selection"
      ]
    },
    {
      "cell_type": "code",
      "execution_count": 45,
      "id": "563d4d3d-6fd6-4e7c-8474-a31504b00529",
      "metadata": {
        "noteable": {
          "cell_type": "python"
        }
      },
      "outputs": [
        {
          "name": "stdout",
          "output_type": "stream",
          "text": [
            "<AtomGroup [<Atom 5: CA of type C of resname MET, resid 1 and segid PROA and altLoc >, <Atom 6: HA of type H of resname MET, resid 1 and segid PROA and altLoc >]>\n"
          ]
        }
      ],
      "source": [
        "# AtomGroups are constructed by atoms\n",
        "atom1 = u.atoms[4]\n",
        "atom2 = u.atoms[5]\n",
        "ag = mda.AtomGroup([atom1,atom2])\n",
        "print(ag)"
      ]
    },
    {
      "cell_type": "code",
      "execution_count": 46,
      "id": "88b1b04e-3aae-419e-96a9-5e048e4f9f23",
      "metadata": {
        "jupyter": {
          "outputs_hidden": false,
          "source_hidden": false
        },
        "noteable": {
          "cell_type": "code"
        }
      },
      "outputs": [
        {
          "name": "stdout",
          "output_type": "stream",
          "text": [
            "<Atom 1: N of type N of resname MET, resid 1 and segid PROA and altLoc >\n",
            "<AtomGroup [<Atom 1: N of type N of resname MET, resid 1 and segid PROA and altLoc >, <Atom 6: HA of type H of resname MET, resid 1 and segid PROA and altLoc >, <Atom 11: HG1 of type H of resname MET, resid 1 and segid PROA and altLoc >]>\n"
          ]
        },
        {
          "data": {
            "text/plain": [
              "array([ 1,  2,  3,  4, 10,  9,  8,  7,  6,  5,  4], dtype=int64)"
            ]
          },
          "execution_count": 46,
          "metadata": {},
          "output_type": "execute_result"
        }
      ],
      "source": [
        "# AtomGroups are also created by manipulating another AtomGroup\n",
        "# Creating an AtomGroup of atoms present in ARG residues\n",
        "ag = u.atoms.select_atoms('resname ARG')\n",
        "#print(ag)\n",
        "\n",
        "# Atomgroups can be indexed, and here we are printing the first atom of the Universe\n",
        "print(u.atoms[0])\n",
        "\n",
        "# It is also possible to slice them, here we are printing atoms at index 0, 5 and 10\n",
        "ag2 = u.atoms[0:11:5] \n",
        "print(ag2)\n",
        "\n",
        "# Splicing returns another AtomGroup, we can still check their indicies in the primary AtomGroup.\n",
        "ag2.indices\n",
        "\n",
        "# You can use group and set operators on atom groups\n",
        "group1 = u.atoms[1:5]\n",
        "group2 = u.atoms[10:3:-1]\n",
        "\n",
        "# Concatinating AtomGroups will preserve their order and the duplicates \n",
        "grouping = group1 + group2\n",
        "grouping.indices"
      ]
    },
    {
      "cell_type": "code",
      "execution_count": 47,
      "id": "e9de707c-64b0-46db-b1a9-54ed55cb7b71",
      "metadata": {
        "jupyter": {
          "outputs_hidden": false,
          "source_hidden": false
        },
        "noteable": {
          "cell_type": "code"
        }
      },
      "outputs": [
        {
          "data": {
            "text/plain": [
              "array([ 1,  2,  3,  4,  5,  6,  7,  8,  9, 10], dtype=int64)"
            ]
          },
          "execution_count": 47,
          "metadata": {},
          "output_type": "execute_result"
        }
      ],
      "source": [
        "# However union will create an AtomGroup with unique atoms ordered according to their topology index\n",
        "union = group1 | group2\n",
        "union.indices"
      ]
    },
    {
      "cell_type": "code",
      "execution_count": 48,
      "id": "aab187b9-ad0b-438f-bc39-081371be413f",
      "metadata": {
        "jupyter": {
          "outputs_hidden": false,
          "source_hidden": false
        },
        "noteable": {
          "cell_type": "code"
        }
      },
      "outputs": [
        {
          "data": {
            "text/plain": [
              "[<AtomGroup with 19 atoms>,\n",
              " <AtomGroup with 24 atoms>,\n",
              " <AtomGroup with 15 atoms>,\n",
              " <AtomGroup with 19 atoms>,\n",
              " <AtomGroup with 16 atoms>,\n",
              " <AtomGroup with 7 atoms>]"
            ]
          },
          "execution_count": 48,
          "metadata": {},
          "output_type": "execute_result"
        }
      ],
      "source": [
        "# You can split or group AtomGroups by their level of connectivity such as residue, molecule, or segment\n",
        "group3 = u.atoms[:100]\n",
        "group3.split('residue')"
      ]
    },
    {
      "cell_type": "code",
      "execution_count": 49,
      "id": "7cc2f916-c59e-4be7-8d92-83f551334835",
      "metadata": {
        "jupyter": {
          "outputs_hidden": false,
          "source_hidden": false
        },
        "noteable": {
          "cell_type": "code"
        }
      },
      "outputs": [
        {
          "data": {
            "text/plain": [
              "{32.06: <AtomGroup with 1 atom>,\n",
              " 1.008: <AtomGroup with 54 atoms>,\n",
              " 12.011: <AtomGroup with 29 atoms>,\n",
              " 14.007: <AtomGroup with 9 atoms>,\n",
              " 15.999: <AtomGroup with 7 atoms>}"
            ]
          },
          "execution_count": 49,
          "metadata": {},
          "output_type": "execute_result"
        }
      ],
      "source": [
        "# Or their topology attributes such as masses\n",
        "group3.groupby('masses')"
      ]
    },
    {
      "cell_type": "code",
      "execution_count": 50,
      "id": "13b793dc-ff4b-40d7-84f9-4c7dbf51e962",
      "metadata": {
        "jupyter": {
          "outputs_hidden": false,
          "source_hidden": false
        },
        "noteable": {
          "cell_type": "code"
        }
      },
      "outputs": [
        {
          "data": {
            "text/plain": [
              "<AtomGroup with 6924 atoms>"
            ]
          },
          "execution_count": 50,
          "metadata": {},
          "output_type": "execute_result"
        }
      ],
      "source": [
        "# Selection of atoms\n",
        "# You can select atoms using selection keywords\n",
        "# They are case sensitive, sequentially ordered, and selection are parsed from left to right with parathesis used for grouping\n",
        "# String selections for names and resdiues are matched with wildcards\n",
        "# * for any number of any character\n",
        "# ? for any single character\n",
        "# [seq] matches the sequence\n",
        "# [!seq] matches any char not in seq\n",
        "# [!?] selects empty string\n",
        "\n",
        "u.select_atoms(\"protein\") # Selects the entire protein"
      ]
    },
    {
      "cell_type": "code",
      "execution_count": 51,
      "id": "ac255a0c-2a49-49e4-872f-1f9725404105",
      "metadata": {
        "jupyter": {
          "outputs_hidden": false,
          "source_hidden": false
        },
        "noteable": {
          "cell_type": "code"
        }
      },
      "outputs": [
        {
          "data": {
            "text/plain": [
              "<AtomGroup with 1799 atoms>"
            ]
          },
          "execution_count": 51,
          "metadata": {},
          "output_type": "execute_result"
        }
      ],
      "source": [
        "u.select_atoms(\"backbone\") # Selects the backbone atoms"
      ]
    },
    {
      "cell_type": "code",
      "execution_count": 52,
      "id": "43d97130-896b-4ea6-8de1-f9e2abb15d51",
      "metadata": {
        "jupyter": {
          "outputs_hidden": false,
          "source_hidden": false
        },
        "noteable": {
          "cell_type": "code"
        }
      },
      "outputs": [
        {
          "data": {
            "text/plain": [
              "<AtomGroup with 6924 atoms>"
            ]
          },
          "execution_count": 52,
          "metadata": {},
          "output_type": "execute_result"
        }
      ],
      "source": [
        "u.select_atoms(\"segid PROA\") # Selects by segment ID as given in the topology file"
      ]
    },
    {
      "cell_type": "code",
      "execution_count": 53,
      "id": "1156831e-81cf-4939-9dbe-4cf25c0bca85",
      "metadata": {
        "jupyter": {
          "outputs_hidden": false,
          "source_hidden": false
        },
        "noteable": {
          "cell_type": "code"
        }
      },
      "outputs": [
        {
          "data": {
            "text/plain": [
              "<AtomGroup with 93 atoms>"
            ]
          },
          "execution_count": 53,
          "metadata": {},
          "output_type": "execute_result"
        }
      ],
      "source": [
        "u.select_atoms(\"resnum 1:5\") # Selects every atom that are in the residies 1 to 5"
      ]
    },
    {
      "cell_type": "code",
      "execution_count": 54,
      "id": "603e2b55-12ca-4fcd-bdab-b03effaf5d9d",
      "metadata": {
        "jupyter": {
          "outputs_hidden": false,
          "source_hidden": false
        },
        "noteable": {
          "cell_type": "code"
        }
      },
      "outputs": [
        {
          "data": {
            "text/plain": [
              "<AtomGroup with 300 atoms>"
            ]
          },
          "execution_count": 54,
          "metadata": {},
          "output_type": "execute_result"
        }
      ],
      "source": [
        "u.select_atoms(\"resname ALA\") # Selection by the 3 letter code of the resname"
      ]
    },
    {
      "cell_type": "code",
      "execution_count": 55,
      "id": "9b1dcf5b-61b1-4b81-bee9-936698ab4c89",
      "metadata": {
        "jupyter": {
          "outputs_hidden": false,
          "source_hidden": false
        },
        "noteable": {
          "cell_type": "code"
        }
      },
      "outputs": [
        {
          "data": {
            "text/plain": [
              "<AtomGroup with 450 atoms>"
            ]
          },
          "execution_count": 55,
          "metadata": {},
          "output_type": "execute_result"
        }
      ],
      "source": [
        "u.select_atoms(\"name CA\") # Selection by name of atom, here selection of C alpha atoms"
      ]
    },
    {
      "cell_type": "code",
      "execution_count": 56,
      "id": "3b8b73e0-6d6f-4461-bd78-1175e7c20bce",
      "metadata": {
        "jupyter": {
          "outputs_hidden": false,
          "source_hidden": false
        },
        "noteable": {
          "cell_type": "code"
        }
      },
      "outputs": [
        {
          "name": "stdout",
          "output_type": "stream",
          "text": [
            "<AtomGroup [<Atom 13: SD of type S of resname MET, resid 1 and segid PROA and altLoc >]>\n",
            "<AtomGroup [<Atom 1: N of type N of resname MET, resid 1 and segid PROA and altLoc >, <Atom 2: HT1 of type H of resname MET, resid 1 and segid PROA and altLoc >, <Atom 3: HT2 of type H of resname MET, resid 1 and segid PROA and altLoc >, ..., <Atom 17: HE3 of type H of resname MET, resid 1 and segid PROA and altLoc >, <Atom 18: C of type C of resname MET, resid 1 and segid PROA and altLoc >, <Atom 19: O of type O of resname MET, resid 1 and segid PROA and altLoc >]>\n"
          ]
        }
      ],
      "source": [
        "# Selection types can be combined\n",
        "print(u.select_atoms(\"segid PROA and resnum 1 and name SD\")) # Selection of the SD atom from the PROA segment of the first residue\n",
        "print(u.select_atoms(\"segid PROA and resnum 1 and not name H\"))# Selection of the all atoms excpet H from the PROA segment of the first residue"
      ]
    },
    {
      "cell_type": "markdown",
      "id": "7a36ed09-118a-4ec3-a38b-761f14666c8a",
      "metadata": {
        "noteable": {
          "cell_type": "markdown"
        }
      },
      "source": [
        "# Storage and visualization tools"
      ]
    },
    {
      "cell_type": "markdown",
      "id": "307eaea1-eb54-4ef1-8109-bc29ad7b3660",
      "metadata": {
        "noteable": {
          "cell_type": "markdown"
        }
      },
      "source": [
        "# Data storage\n",
        "The starting point when working with molecular dynamics is to know the file you\n",
        "are using and their extension. You can refer to this [official list](https://userguide.mdanalysis.org/stable/formats/index.html) to see the\n",
        "the format supported by MDAnalysis.\n",
        "Data can be stored in multiple raw forms such as a data file or transformed\n",
        "forms like a plot or a movie, some of them will be presented in this section."
      ]
    },
    {
      "cell_type": "markdown",
      "id": "b55f3298-6624-4416-b4b1-fdf51309026b",
      "metadata": {
        "noteable": {
          "cell_type": "markdown"
        }
      },
      "source": [
        "## Writing out data\n",
        "\n",
        "### Frame and trajectories\n",
        "MDAnalysis allows you to write frames or trajectories in any of the supported format with `.write()`:"
      ]
    },
    {
      "cell_type": "code",
      "execution_count": 57,
      "id": "6215b069-be82-4e6f-bde2-d84e896aeb75",
      "metadata": {},
      "outputs": [
        {
          "name": "stderr",
          "output_type": "stream",
          "text": [
            "c:\\Users\\martb\\miniconda3\\envs\\mdanalysis\\Lib\\site-packages\\MDAnalysis\\coordinates\\PDB.py:775: UserWarning: Unit cell dimensions not found. CRYST1 record set to unitary values.\n",
            "  warnings.warn(\"Unit cell dimensions not found. \"\n",
            "c:\\Users\\martb\\miniconda3\\envs\\mdanalysis\\Lib\\site-packages\\MDAnalysis\\coordinates\\PDB.py:1151: UserWarning: Found no information for attr: 'formalcharges' Using default value of '0'\n",
            "  warnings.warn(\"Found no information for attr: '{}'\"\n"
          ]
        }
      ],
      "source": [
        "import MDAnalysis as mda\n",
        "\n",
        "\n",
        "reference = mda.Universe('MDAnalysis_Programmation_python_2/PDB_tubuline.pdb', \n",
        "                         'MDAnalysis_Programmation_python_2/trajectoire_tubuline.dcd')\n",
        "\n",
        "\n",
        "ag = reference.select_atoms(\"name CA\")\n",
        "\n",
        "# Writing the current frame to a file\n",
        "ag.write(\"c-alpha.pdb\")\n",
        "\n",
        "# Writing the trajectory using the 'frames' keyword\n",
        "ag.write('c-alpha_all.pdb', frames='all')\n",
        "\n",
        "# Example for slice\n",
        "ag.write('c-alpha_skip2.pdb', frames=reference.trajectory[::2])"
      ]
    },
    {
      "cell_type": "markdown",
      "id": "e402988a-20f3-452d-aebb-98074748b1ea",
      "metadata": {
        "noteable": {
          "cell_type": "markdown"
        }
      },
      "source": [
        "# Visualisation"
      ]
    },
    {
      "cell_type": "markdown",
      "id": "fcea3a5a-4bc7-4bd1-866e-225ea0f5e2a7",
      "metadata": {
        "noteable": {
          "cell_type": "markdown"
        }
      },
      "source": [
        "## Plotting trajectories\n",
        "Generally, trajectories are worked on through iteration so that only the\n",
        "information of the active frame are considered. A way to visualize specific\n",
        "information from each frame is to extract them in a list and convert them into\n",
        "other data structures such as a *Numpy* array or a *Pandas* DataFrame. This way,\n",
        "plotting with *Matplotlib* can be easier to do:"
      ]
    },
    {
      "cell_type": "markdown",
      "id": "6f1997e3-5370-43a4-932f-3245907946bf",
      "metadata": {
        "noteable": {
          "cell_type": "markdown"
        }
      },
      "source": [
        "### Radius of gyration using *Pandas*"
      ]
    },
    {
      "cell_type": "code",
      "execution_count": 58,
      "id": "90a76e79-f2d4-448e-ab36-d77cb2e680c9",
      "metadata": {},
      "outputs": [],
      "source": [
        "import pandas as pd\n",
        "import matplotlib.pyplot as plt\n",
        "\n",
        "\n",
        "rgyr = []\n",
        "time = []\n",
        "\n",
        "protein = reference.select_atoms(\"protein\")\n",
        "\n",
        "for ts in reference.trajectory:\n",
        "    # Extract the time from the frame\n",
        "    time.append(reference.trajectory.time)\n",
        "    # Extract the protein radius of gyration from the frame\n",
        "    rgyr.append(protein.radius_of_gyration())"
      ]
    },
    {
      "cell_type": "code",
      "execution_count": 68,
      "id": "6f902812-8d0e-4311-b9de-58d36f122a89",
      "metadata": {
        "jupyter": {
          "outputs_hidden": false,
          "source_hidden": false
        },
        "noteable": {
          "cell_type": "code"
        }
      },
      "outputs": [
        {
          "data": {
            "image/png": "[encoded data removed]",
            "text/plain": [
              "<Figure size 640x480 with 1 Axes>"
            ]
          },
          "metadata": {},
          "output_type": "display_data"
        }
      ],
      "source": [
        "# Create a pandas dataframe\n",
        "rgyr_df = pd.DataFrame(rgyr, columns=['Radius of gyration (A)'], index=time)\n",
        "rgyr_df.index.name = 'Time (ps)'\n",
        "\n",
        "# Create a matplotlib plot\n",
        "rgyr_df.plot(title='Radius of gyration')                        \n",
        "plt.show()"
      ]
    },
    {
      "cell_type": "markdown",
      "id": "97ea1f3d-04c6-4e63-82f1-cb00c76abcee",
      "metadata": {
        "noteable": {
          "cell_type": "markdown"
        }
      },
      "source": [
        "## NGLView\n"
      ]
    },
    {
      "cell_type": "markdown",
      "id": "e40a9870-902f-419f-9dc7-a9c038f8b97e",
      "metadata": {
        "noteable": {
          "cell_type": "markdown"
        }
      },
      "source": [
        "[NGL Viewer](http://nglviewer.org/) is an Interactive widget to visualize molecular structures or trajectories in Jupyter notebooks.\n",
        "\n",
        "You can see [this tutorial](https://projects.volkamerlab.org/teachopencadd/talktorials/T017_advanced_nglview_usage.html#Custom-coloring-schemes-and-representations) from the Volkamerlab for a walkthrough of the NGLView usage.\n",
        "\n",
        "#### Visualize a structure or a trajectory\n",
        "You can perform quick visualization for different objects. Here follow a few examples:\n",
        "- `.show_file()` to visualize your object by automatic recognition of the file from its extension\n",
        "- `.show_pdbid()` to visualise a PDB structure from its ID\n",
        "- `.show_mdanalysis` to visualize an `MDAnalysis` Universe or AtomGroup `univ`"
      ]
    },
    {
      "cell_type": "code",
      "execution_count": 61,
      "id": "72175ede-68d4-41d3-9189-8499d26ac031",
      "metadata": {
        "ExecuteTime": {
          "end_time": "2023-11-12T11:34:58.802263+00:00",
          "start_time": "2023-11-12T11:34:58.190320+00:00"
        },
        "noteable": {
          "output_collection_id": "059768ef-1e30-4e47-ba08-655d3e85cd71"
        }
      },
      "outputs": [
        {
          "data": {
            "application/vnd.jupyter.widget-view+json": {
              "model_id": "d346340ce0784939aa786bec5920329e",
              "version_major": 2,
              "version_minor": 0
            },
            "text/plain": [
              "NGLWidget(max_frame=999)"
            ]
          },
          "metadata": {},
          "output_type": "display_data"
        }
      ],
      "source": [
        "import nglview as nv\n",
        "\n",
        "\n",
        "view = nv.show_mdanalysis(reference)\n",
        "view"
      ]
    },
    {
      "cell_type": "markdown",
      "id": "27ca19b7-86b2-4e17-a105-a9f08d503583",
      "metadata": {},
      "source": [
        "##### Visualizing the first and last structures of the trajectory\n",
        "It can be interesting to compare frames taken from different conformations adopted during the simulation. Thus we provide an example on how to do this comparison on the first and the last frames of our simulation.  \n",
        "\n",
        "For a better visualization of the structural differences, a simple alignement will be performed. As the most fluctuating part of the protein where found from the residues 415 to the end, this alignement will be made one the $C\\alpha$ of the residues 0 to 415 of the protein."
      ]
    },
    {
      "cell_type": "markdown",
      "id": "99921aff-a192-439c-bc7a-db92b1ba8a9a",
      "metadata": {},
      "source": [
        "##### Comparative visualization the most mobile part movements of the tubuline"
      ]
    },
    {
      "cell_type": "code",
      "execution_count": 62,
      "id": "c321cde1-e593-4080-82f3-b5a2c7b5b265",
      "metadata": {
        "jupyter": {
          "outputs_hidden": false,
          "source_hidden": false
        },
        "noteable": {
          "cell_type": "code"
        }
      },
      "outputs": [
        {
          "name": "stderr",
          "output_type": "stream",
          "text": [
            "c:\\Users\\martb\\miniconda3\\envs\\mdanalysis\\Lib\\site-packages\\MDAnalysis\\coordinates\\DCD.py:165: DeprecationWarning: DCDReader currently makes independent timesteps by copying self.ts while other readers update self.ts inplace. This behavior will be changed in 3.0 to be the same as other readers. Read more at https://github.com/MDAnalysis/mdanalysis/issues/3889 to learn if this change in behavior might affect you.\n",
            "  warnings.warn(\"DCDReader currently makes independent timesteps\"\n",
            "c:\\Users\\martb\\miniconda3\\envs\\mdanalysis\\Lib\\site-packages\\MDAnalysis\\coordinates\\DCD.py:448: UserWarning: No dimensions set for current frame, zeroed unitcell will be written\n",
            "  warnings.warn(wmsg)\n"
          ]
        }
      ],
      "source": [
        "from MDAnalysis.analysis import align\n",
        "\n",
        "# Create an independent copy of the mobile Universe\n",
        "mobile = reference.copy()\n",
        "\n",
        "# Perform a backbone-wise alignment\n",
        "aligner = align.AlignTraj(mobile, \n",
        "                          reference, \n",
        "                          select='backbone and resid 0-400',\n",
        "                          filename='aligned_to_first_frame.dcd').run()\n",
        "\n",
        "# Provide aligned coordinates for the trajectory\n",
        "mobile = mda.Universe('MDAnalysis_Programmation_python_2/PDB_tubuline.pdb', \n",
        "                      'aligned_to_first_frame.dcd')"
      ]
    },
    {
      "cell_type": "code",
      "execution_count": 63,
      "id": "3410fa65-8aea-4c40-a35a-2c4ca97c831a",
      "metadata": {
        "jupyter": {
          "outputs_hidden": false,
          "source_hidden": false
        },
        "noteable": {
          "cell_type": "code"
        }
      },
      "outputs": [
        {
          "data": {
            "application/vnd.jupyter.widget-view+json": {
              "model_id": "5ab3a97d18c04a1595159458c0a38b75",
              "version_major": 2,
              "version_minor": 0
            },
            "text/plain": [
              "NGLWidget(max_frame=999)"
            ]
          },
          "metadata": {},
          "output_type": "display_data"
        }
      ],
      "source": [
        "# Create a view of the mobile trajectory\n",
        "view = nv.show_mdanalysis(mobile)\n",
        "\n",
        "# Add the pdb structure in the viewer\n",
        "view.add_component(reference)\n",
        "\n",
        "# Update the cartoon representation of the trajectory \n",
        "view.update_cartoon(component=0, color='red')\n",
        "view.update_cartoon(component=1, color='blue')\n",
        "\n",
        "view"
      ]
    },
    {
      "cell_type": "markdown",
      "id": "11f1db02-db3c-4912-91aa-a3e768ec1714",
      "metadata": {
        "noteable": {
          "cell_type": "markdown"
        }
      },
      "source": [
        "# Align a trajectory on a reference"
      ]
    },
    {
      "cell_type": "markdown",
      "id": "4956c689-f161-4a07-9f9e-44cea2386c87",
      "metadata": {
        "noteable": {
          "cell_type": "markdown"
        }
      },
      "source": [
        "In order to obtain the correct RMSD or RMSF value of the structure of the tubuline after the simulation, we need to align the protein at the begining of the simulation to itself but on the last frame of the trajectory.\n",
        "\n",
        "To be able to do that, we will need to use a component of the anaylis module provided by MDAnalysis.\n",
        "\n",
        "\n"
      ]
    },
    {
      "cell_type": "code",
      "execution_count": 64,
      "id": "dd12cc78-9b71-4a47-8708-16298c43c4e1",
      "metadata": {
        "ExecuteTime": {
          "end_time": "2023-11-12T17:50:34.417941+00:00",
          "start_time": "2023-11-12T17:50:34.252530+00:00"
        },
        "noteable": {
          "cell_type": "python",
          "output_collection_id": "9629f3e2-93a9-4393-b48b-1b0d3ceb1731"
        }
      },
      "outputs": [],
      "source": [
        "from MDAnalysis.analysis import align"
      ]
    },
    {
      "cell_type": "markdown",
      "id": "6e8194a2-4519-432d-8869-30c3847fbffb",
      "metadata": {
        "noteable": {
          "cell_type": "markdown"
        }
      },
      "source": [
        "The analysis module contains a lot of different algorithms to extract data from the topologie and the trajectory of our system. \n",
        "\n",
        "To perform the alignement, we will need a reference structure and a mobile one which will be aligned onto the reference.\n",
        "\n",
        "In our case we will select the orignal pdb structure as our reference point and the tubuline in the last frame as our mobile structure.\n",
        "\n",
        "To do that will use the function *alignto* from the align module. This function takes 8 arguments:\n",
        "\n",
        "required:\n",
        "- mobile (Universe | AtomGroup): the structure that will be aligned\n",
        "- reference (Universe | AtomGroup): the structure on which the alignement is based on\n",
        "\n",
        "optional:\n",
        "- select (str | dict | tuple): filter on which groups of atoms are chosen for the alignment. If a single string is used, the selection need to be valid for both the mobile and the reference AtomGroups. We can perform seperate selection filters by using a dictionnary (i.e. {'mobile': 'mySelection1', 'reference': 'mySelection2}) or a tuple.\n",
        "- match_atoms (bool): align the mobile and reference structure atom by atom.\n",
        "- weights: (\"mass\" | None | array): used in case you want to do a weighted RMSD alignement or have a different center of mass. You can either use the mass of the atoms or input an array with custom weights.\n",
        "- tol_mass (float): Threshold where the alignment will be aborted if two matching atoms differ by more than tol_mass\n",
        "- strict (bool): Raise an error if an atom is different in the mobile or reference selections.\n",
        "\n",
        "And in returns, we obtain a tuple containing the RMSD before the alignment and the RMSD after."
      ]
    },
    {
      "cell_type": "code",
      "execution_count": 65,
      "id": "5af06b16-82b3-416a-92f4-0cb8dea8de03",
      "metadata": {
        "noteable": {
          "cell_type": "python"
        }
      },
      "outputs": [
        {
          "name": "stderr",
          "output_type": "stream",
          "text": [
            "c:\\Users\\martb\\miniconda3\\envs\\mdanalysis\\Lib\\site-packages\\MDAnalysis\\coordinates\\DCD.py:165: DeprecationWarning: DCDReader currently makes independent timesteps by copying self.ts while other readers update self.ts inplace. This behavior will be changed in 3.0 to be the same as other readers. Read more at https://github.com/MDAnalysis/mdanalysis/issues/3889 to learn if this change in behavior might affect you.\n",
            "  warnings.warn(\"DCDReader currently makes independent timesteps\"\n"
          ]
        },
        {
          "data": {
            "text/plain": [
              "(8.385687101272765, 7.929769066240307)"
            ]
          },
          "execution_count": 65,
          "metadata": {},
          "output_type": "execute_result"
        }
      ],
      "source": [
        "reference = mda.Universe('MDAnalysis_Programmation_python_2/PDB_tubuline.pdb')\n",
        "mobile = mda.Universe('MDAnalysis_Programmation_python_2/PDB_tubuline.pdb', 'MDAnalysis_Programmation_python_2/trajectoire_tubuline.dcd')\n",
        "\n",
        "# Take the last frame of the simulation\n",
        "mobile.trajectory[-1]\n",
        "\n",
        "align.alignto(mobile, reference, select='protein and name CA', weights='mass')\n"
      ]
    },
    {
      "cell_type": "markdown",
      "id": "221d9afe-791a-44c5-aa2e-687668c4ab05",
      "metadata": {
        "noteable": {
          "cell_type": "markdown"
        }
      },
      "source": [
        "# Determinate flexible loops with RMSF"
      ]
    },
    {
      "cell_type": "markdown",
      "id": "135a58a6-b374-4890-b2ee-e2c9c5a8fb42",
      "metadata": {},
      "source": [
        "What means RMSF and what is it use for ?\n",
        "\n",
        "Before explaining RMSF, let me introduce RMSD. \n",
        "- RMSD means Root Mean Square Deviation. It represents the difference between two structures and in the case of simulations, the motion of our whole structure of interest throughout the simulation. It is basically plotted as structure variation vs. time.\n",
        "\n",
        "- RMSF means Root Mean Square Fluctuation. It also shows fluctuations all over the simulations but for specific atoms or residues. It can highlight which residue or part of our structure are the most flexible. It is also plotted as residue/part of structure vs. time."
      ]
    },
    {
      "cell_type": "markdown",
      "id": "21651159-1434-4103-b648-7b5e2b1ab46e",
      "metadata": {
        "noteable": {
          "cell_type": "markdown"
        }
      },
      "source": [
        "Now that we have explained the theory, let's look at a practical example with our tubuline."
      ]
    },
    {
      "cell_type": "code",
      "execution_count": 66,
      "id": "16fe8055-d85a-4018-a921-760a078c907d",
      "metadata": {
        "ExecuteTime": {
          "end_time": "2023-11-06T07:43:39.745874+00:00",
          "start_time": "2023-11-06T07:43:39.405200+00:00"
        },
        "noteable": {
          "output_collection_id": "87f03cc3-16c2-423d-aa29-ed4ac0efd6bd"
        }
      },
      "outputs": [],
      "source": [
        "# Import specific package for analysis and in this case : rms (rmsd, rmsf) \n",
        "from MDAnalysis.analysis import rms\n",
        "\n",
        "# First you have to select what part of your structure you want to look at\n",
        "# For now we take as example the alpha carbons of the tubulin\n",
        "c_alphas = u.select_atoms('protein and name CA')\n",
        "\n",
        "# Calculate the rmsf for alpha carbons \n",
        "R = rms.RMSF(c_alphas).run()"
      ]
    },
    {
      "cell_type": "code",
      "execution_count": 67,
      "id": "c1e8093d-dcc0-451a-ad44-d30bed68fc64",
      "metadata": {
        "ExecuteTime": {
          "end_time": "2023-11-06T07:43:50.692955+00:00",
          "start_time": "2023-11-06T07:43:50.319867+00:00"
        },
        "jupyter": {
          "outputs_hidden": false,
          "source_hidden": false
        },
        "noteable": {
          "cell_type": "code",
          "output_collection_id": "7a2dac8d-1574-44fe-807a-a50da0659880"
        },
        "scrolled": false
      },
      "outputs": [
        {
          "data": {
            "text/plain": [
              "[<matplotlib.lines.Line2D at 0x294b52a0cd0>]"
            ]
          },
          "execution_count": 67,
          "metadata": {},
          "output_type": "execute_result"
        },
        {
          "data": {
            "image/png": "[encoded data removed]",
            "text/plain": [
              "<Figure size 640x480 with 1 Axes>"
            ]
          },
          "metadata": {},
          "output_type": "display_data"
        }
      ],
      "source": [
        "# Import package for plotting\n",
        "import matplotlib.pyplot as plt\n",
        "\n",
        "# Then plot your RMSF of alpha carbons\n",
        "# A graph will be displayed with RMSF values in Angstroms on y-axis and the residue indices on x-axis\n",
        "plt.plot(c_alphas.resids, R.results.rmsf)"
      ]
    },
    {
      "cell_type": "markdown",
      "id": "9570994d-0fc9-4f1c-9b52-7db7a2260769",
      "metadata": {
        "noteable": {
          "cell_type": "markdown"
        }
      },
      "source": [
        "# Other types of analysis featured by MDAnalysis\n",
        "\n",
        "In addition to the functionalities presented previously, MDAnalysis offers other analysis tools."
      ]
    },
    {
      "cell_type": "markdown",
      "id": "f113c5c4-d288-4954-bbd9-0d939852eb7a",
      "metadata": {
        "noteable": {
          "cell_type": "markdown"
        }
      },
      "source": [
        "## Distances and contacts\n",
        "\n",
        "You can compute distances between atoms, residues or larger sets. It can give you valuable datas :\n",
        "- How residues are close during the simulation\n",
        "- If two residues are in contact if they are within a certain distance\n",
        "- An overview of the global movement of the system by looking at number of contacts all over the simulation"
      ]
    },
    {
      "cell_type": "markdown",
      "id": "a047b2a4-1c9c-4dac-8bbd-1b0515eff3c3",
      "metadata": {
        "noteable": {
          "cell_type": "markdown"
        }
      },
      "source": [
        "## Structure\n",
        "\n",
        "- Having an idea of dihedral angles and secondary structures\n",
        "- Calculating RDF (Radial Function Distribution) of solvent around certain atoms\n"
      ]
    },
    {
      "cell_type": "markdown",
      "id": "8b7e6afa-b42a-457d-a3b0-663765874eaa",
      "metadata": {
        "noteable": {
          "cell_type": "markdown"
        }
      },
      "source": [
        "## Hydrogen bonds\n",
        "\n",
        "MDAnalysis has features to analyse hydrogen bonds in a Universe thanks to the function `HydrogenBondAnalysis`"
      ]
    }
  ],
  "metadata": {
    "kernel_info": {
      "name": "project_scoped_kernel"
    },
    "kernelspec": {
      "display_name": "mdanalysis",
      "language": "python",
      "name": "python3"
    },
    "language_info": {
      "codemirror_mode": {
        "name": "ipython",
        "version": 3
      },
      "file_extension": ".py",
      "mimetype": "text/x-python",
      "name": "python",
      "nbconvert_exporter": "python",
      "pygments_lexer": "ipython3",
      "version": "3.11.0"
    },
    "selected_hardware_size": "small"
  },
  "nbformat": 4,
  "nbformat_minor": 5
}
