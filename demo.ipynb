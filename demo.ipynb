{
  "nbformat": 4,
  "nbformat_minor": 5,
  "metadata": {
    "kernel_info": {
      "name": "project_scoped_kernel"
    },
    "kernelspec": {
      "display_name": "Project Kernel",
      "identifier": "custom",
      "language": "python",
      "language_version": "3.9",
      "name": "project_scoped_kernel"
    },
    "selected_hardware_size": "small"
  },
  "cells": [
    {
      "id": "36a226ee",
      "cell_type": "markdown",
      "source": "# What is MDAnalysis ?\n",
      "metadata": {}
    },
    {
      "id": "d3ea3333-3564-43a5-ac40-72499da03774",
      "cell_type": "markdown",
      "source": "**MDAnalysis** is a Python open-source toolkit dedicated to the analysis of molecular dynamics trajectories. It is developed and maintained by a global community of scientists and it is free.  \nIt provides powerful and flexible framework for working with MD data, allowing to analyze trajectory files from various simulation packages.  \nIt was initially presented in a [paper released in 2011](https://doi.org/10.1002/jcc.21787) and a [second paper was published in 2016](https://doi.org/10.25080/majora-629e541a-00e) to describe many updates in 2016 for a better global description of the toolkit. The current version is the 2.6.1.\n\n",
      "metadata": {
        "noteable": {
          "cell_type": "markdown"
        }
      }
    },
    {
      "id": "cf05c22d-7508-4ce5-ae8f-401942bc01e6",
      "cell_type": "markdown",
      "source": "# Installation",
      "metadata": {
        "noteable": {
          "cell_type": "markdown"
        }
      }
    },
    {
      "id": "ad6fb062-8caf-45cf-8d42-2a42df57c578",
      "cell_type": "markdown",
      "source": "Our custom conda environment:\nWe provide you a yaml file that you can use to generate a conda environment containing all the necessary packages to work with MDAnalysis.\n\nJust run this command in your terminal :\nconda env create -f mdanalysis_conda_env.yml\n\npip:\nYou can otherwise run the following command to install it with core dependencies :\npip install --upgrade MDAnalysis",
      "metadata": {
        "noteable": {
          "cell_type": "markdown"
        }
      }
    },
    {
      "id": "f9635fad-78c6-4b67-a8e7-b7c47fb39dc7",
      "cell_type": "markdown",
      "source": "# Universe\n\nThe Main data structures in the User Interface are Universe and AtomGroup. With them we could do selections, units, topology I/O, trajectory I/O… \n\nUniverse is a class in which the data is loaded. It is the primary object and core interface to Molecular Dynamics and used to Read topology information from a file.\n\nTo create a Universe object, we need a topology file such as a PDB file that contains all static information like atoms name and mass, charges, bonds and connectivity… A trajectory file is optionally used in the creation of the Universe object but it must have the coordinates in the same order as atoms in the topology file. \nUniverse has two key properties: \n\t1. atoms: Systems' atoms\n\t2. trajectory: the loaded trajectory reader\n\nThere are several formats of Universe objects that one can load: \nu=Universe(topology,trajectory)\nu=Universe(pdbfile)                                                    \nu=Universe(topology,[traj1,traj2,...])                        \nu=Universe(topology,traj1,traj2,...)    ",
      "metadata": {
        "noteable": {
          "cell_type": "markdown"
        }
      }
    },
    {
      "id": "65e2a7dd-1fe1-433b-a40e-c65846837a94",
      "cell_type": "code",
      "metadata": {
        "noteable": {
          "cell_type": "python",
          "output_collection_id": "a69f348a-34dc-4b10-84c2-429dc8223e12"
        },
        "ExecuteTime": {
          "end_time": "2023-11-12T22:06:16.853440+00:00",
          "start_time": "2023-11-12T22:06:16.500419+00:00"
        }
      },
      "execution_count": null,
      "source": "import MDAnalysis as mda\n\n# Creation of a Universe using a topology and a trajectory file\nu = mda.Universe('PDB_tubuline.pdb', 'trajectoire_tubuline.dcd')\n\n# Creating a universe using only the coordinates from the second file only\nu1 = mda.Universe('PDB_tubuline.pdb', 'trajectoire_tubuline.dcd', all_coordinates = False)\nprint(u1.trajectory)\n\n# Creating a universe using only the coordinates from both files\nu2 = mda.Universe('PDB_tubuline.pdb', 'trajectoire_tubuline.dcd', all_coordinates = True)\nprint(u2.trajectory)",
      "outputs": []
    },
    {
      "id": "bd789d3a-4a8a-4953-b567-c5c063269d40",
      "cell_type": "code",
      "metadata": {
        "noteable": {
          "output_collection_id": "d18db997-6752-45c6-baaf-7706c050c1e2"
        },
        "ExecuteTime": {
          "end_time": "2023-11-12T17:50:47.593053+00:00",
          "start_time": "2023-11-12T17:50:47.425724+00:00"
        }
      },
      "execution_count": null,
      "source": "# A universe can also be created from scratch\n# In this examplewe will create a universe of 1000 water molecules\n# For this example we will need the numpy\nimport numpy as np\nn_residues = 1000 # Assigning the number of water molecules\nn_atoms = n_residues * 3 # Because a Water molecule contains 3 atoms\n\n# Creating a list of indicies for the residues\nresindicies = np.repeat(range(n_residues), 3) \nassert len(resindicies) == n_atoms\n\n# Assigning the water molecules to 1 segment\nsegindicies =[0] * n_residues\n\n# Creating the universe using\nsol = mda.Universe.empty(n_atoms, n_residues = n_residues, atom_resindex = resindicies, residue_segindex = segindicies)\nsol",
      "outputs": []
    },
    {
      "id": "68d270ad-1095-4f35-be1d-503e19e541fd",
      "cell_type": "markdown",
      "source": "# Selection",
      "metadata": {
        "noteable": {
          "cell_type": "markdown"
        }
      }
    },
    {
      "id": "563d4d3d-6fd6-4e7c-8474-a31504b00529",
      "cell_type": "code",
      "metadata": {
        "noteable": {
          "cell_type": "python"
        }
      },
      "execution_count": null,
      "source": "# AtomGroups are constructed by atoms\natom1 = u.atoms[4]\natom2 = u.atoms[5]\nag = mda.AtomGroup([atom1,atom2])\nprint(ag)",
      "outputs": []
    },
    {
      "id": "88b1b04e-3aae-419e-96a9-5e048e4f9f23",
      "cell_type": "code",
      "metadata": {
        "jupyter": {
          "outputs_hidden": false,
          "source_hidden": false
        },
        "noteable": {
          "cell_type": "code"
        }
      },
      "execution_count": null,
      "source": "# AtomGroups are also created by manipulating another AtomGroup\n# Creating an AtomGroup of atoms present in ARG residues\nag = u.atoms.select_atoms('resname ARG')\n#print(ag)\n\n# Atomgroups can be indexed, and here we are printing the first atom of the Universe\nprint(u.atoms[0])\n\n# It is also possible to slice them, here we are printing atoms at index 0, 5 and 10\nag2 = u.atoms[0:11:5] \nprint(ag2)\n\n# Splicing returns another AtomGroup, we can still check their indicies in the primary AtomGroup.\nag2.indices\n\n# You can use group and set operators on atom groups\ngroup1 = u.atoms[1:5]\ngroup2 = u.atoms[10:3:-1]\n\n# Concatinating AtomGroups will preserve their order and the duplicates \ngrouping = group1 + group2\ngrouping.indices",
      "outputs": []
    },
    {
      "id": "e9de707c-64b0-46db-b1a9-54ed55cb7b71",
      "cell_type": "code",
      "metadata": {
        "jupyter": {
          "outputs_hidden": false,
          "source_hidden": false
        },
        "noteable": {
          "cell_type": "code"
        }
      },
      "execution_count": null,
      "source": "# However union will create an AtomGroup with unique atoms ordered according to their topology index\nunion = group1 | group2\nunion.indices",
      "outputs": []
    },
    {
      "id": "aab187b9-ad0b-438f-bc39-081371be413f",
      "cell_type": "code",
      "metadata": {
        "jupyter": {
          "outputs_hidden": false,
          "source_hidden": false
        },
        "noteable": {
          "cell_type": "code"
        }
      },
      "execution_count": null,
      "source": "# You can split or group AtomGroups by their level of connectivity such as residue, molecule, or segment\ngroup3 = u.atoms[:100]\ngroup3.split('residue')",
      "outputs": []
    },
    {
      "id": "7cc2f916-c59e-4be7-8d92-83f551334835",
      "cell_type": "code",
      "metadata": {
        "jupyter": {
          "outputs_hidden": false,
          "source_hidden": false
        },
        "noteable": {
          "cell_type": "code"
        }
      },
      "execution_count": null,
      "source": "# Or their topology attributes such as masses\ngroup3.groupby('masses')",
      "outputs": []
    },
    {
      "id": "13b793dc-ff4b-40d7-84f9-4c7dbf51e962",
      "cell_type": "code",
      "metadata": {
        "jupyter": {
          "outputs_hidden": false,
          "source_hidden": false
        },
        "noteable": {
          "cell_type": "code"
        }
      },
      "execution_count": null,
      "source": "# Selection of atoms\n# You can select atoms using selection keywords\n# They are case sensitive, sequentially ordered, and selection are parsed from left to right with parathesis used for grouping\n# String selections for names and resdiues are matched with wildcards\n# * for any number of any character\n# ? for any single character\n# [seq] matches the sequence\n# [!seq] matches any char not in seq\n# [!?] selects empty string\n\nu.select_atoms(\"protein\") # Selects the entire protein",
      "outputs": []
    },
    {
      "id": "ac255a0c-2a49-49e4-872f-1f9725404105",
      "cell_type": "code",
      "metadata": {
        "jupyter": {
          "outputs_hidden": false,
          "source_hidden": false
        },
        "noteable": {
          "cell_type": "code"
        }
      },
      "execution_count": null,
      "source": "u.select_atoms(\"backbone\") # Selects the backbone atoms",
      "outputs": []
    },
    {
      "id": "43d97130-896b-4ea6-8de1-f9e2abb15d51",
      "cell_type": "code",
      "metadata": {
        "jupyter": {
          "outputs_hidden": false,
          "source_hidden": false
        },
        "noteable": {
          "cell_type": "code"
        }
      },
      "execution_count": null,
      "source": "u.select_atoms(\"segid PROA\") # Selects by segment ID as given in the topology file",
      "outputs": []
    },
    {
      "id": "1156831e-81cf-4939-9dbe-4cf25c0bca85",
      "cell_type": "code",
      "metadata": {
        "jupyter": {
          "outputs_hidden": false,
          "source_hidden": false
        },
        "noteable": {
          "cell_type": "code"
        }
      },
      "execution_count": null,
      "source": "u.select_atoms(\"resnum 1:5\") # Selects every atom that are in the residies 1 to 5",
      "outputs": []
    },
    {
      "id": "603e2b55-12ca-4fcd-bdab-b03effaf5d9d",
      "cell_type": "code",
      "metadata": {
        "jupyter": {
          "outputs_hidden": false,
          "source_hidden": false
        },
        "noteable": {
          "cell_type": "code"
        }
      },
      "execution_count": null,
      "source": "u.select_atoms(\"resname ALA\") # Selection by the 3 letter code of the resname",
      "outputs": []
    },
    {
      "id": "9b1dcf5b-61b1-4b81-bee9-936698ab4c89",
      "cell_type": "code",
      "metadata": {
        "jupyter": {
          "outputs_hidden": false,
          "source_hidden": false
        },
        "noteable": {
          "cell_type": "code"
        }
      },
      "execution_count": null,
      "source": "u.select_atoms(\"name CA\") # Selection by name of atom, here selection of C alpha atoms",
      "outputs": []
    },
    {
      "id": "3b8b73e0-6d6f-4461-bd78-1175e7c20bce",
      "cell_type": "code",
      "metadata": {
        "jupyter": {
          "outputs_hidden": false,
          "source_hidden": false
        },
        "noteable": {
          "cell_type": "code"
        }
      },
      "execution_count": null,
      "source": "# Selection types can be combined\nprint(u.select_atoms(\"segid PROA and resnum 1 and name SD\")) # Selection of the SD atom from the PROA segment of the first residue\nprint(u.select_atoms(\"segid PROA and resnum 1 and not name H\"))# Selection of the all atoms excpet H from the PROA segment of the first residue",
      "outputs": []
    },
    {
      "id": "7a36ed09-118a-4ec3-a38b-761f14666c8a",
      "cell_type": "markdown",
      "source": "# Storage and visualization tools",
      "metadata": {
        "noteable": {
          "cell_type": "markdown"
        }
      }
    },
    {
      "id": "307eaea1-eb54-4ef1-8109-bc29ad7b3660",
      "cell_type": "markdown",
      "source": "# Data storage\nThe starting point when working with molecular dynamics is to know the file you\nare using and their extension. You can refer to this [official list](https://userguide.mdanalysis.org/stable/formats/index.html) to see the\nthe format supported by MDAnalysis.\nData can be stored in multiple raw forms such as a data file or transformed\nforms like a plot or a movie, some of them will be presented in this section.\n\n",
      "metadata": {
        "noteable": {
          "cell_type": "markdown"
        }
      }
    },
    {
      "id": "b55f3298-6624-4416-b4b1-fdf51309026b",
      "cell_type": "markdown",
      "source": "## Writing out data\n\n### Frame and trajectories\nMDAnalysis allows you to write frames or trajectories in any of the supported format with `.write()`:",
      "metadata": {
        "noteable": {
          "cell_type": "markdown"
        }
      }
    },
    {
      "id": "6215b069-be82-4e6f-bde2-d84e896aeb75",
      "cell_type": "code",
      "metadata": {},
      "execution_count": null,
      "source": "ag = u.select_atoms(\"name CA\")\n\n# Writing the current frame to a file\nag.write(\"c-alpha.pdb\")\n\n# Writing the trajectory using the 'frames' keyword\nag.write('c-alpha_all.xtc', frames='all')\n\n# Example for slice or index\nag.write('c-alpha_skip2.trr', frames=u.trajectory[::2])\nag.write('c-alpha_some.dcd', frames=u.trajectory[[0,2,3]])",
      "outputs": []
    },
    {
      "id": "97136a32-8b95-417f-8ad9-576aa8c4aa6b",
      "cell_type": "markdown",
      "source": "There is also the possiblity to write by iterating through the frames of a trajectory with `Writer()`:",
      "metadata": {}
    },
    {
      "id": "520ab4ae-26a7-408d-87e7-beba0050687b",
      "cell_type": "code",
      "metadata": {},
      "execution_count": null,
      "source": "with mda.Writer('c-alpha.xyz', ag.n_atoms) as w:\n    for ts in u.trajectory:\n        w.write(ag)",
      "outputs": []
    },
    {
      "id": "00db3b86-bbfa-4092-bb94-857446a8f6e5",
      "cell_type": "markdown",
      "source": "### Selection of atoms\nMDAnalysis also allows you to write out a selection of atoms to a format readable by [other programs](https://userguide.mdanalysis.org/stable/formats/selection_exporters.html#id2). For that, the `AtomGroup.write` method can be used with the appropriate file extension:",
      "metadata": {}
    },
    {
      "id": "9c263df3-efef-4ea9-b647-babb28cb83a5",
      "cell_type": "code",
      "metadata": {},
      "execution_count": null,
      "source": "ag = u.select_atoms('resname ALA')\n\n# Exporting the alanines as a vmd representation\nag.write(\"ala_selection.vmd\", name=\"alanine\")",
      "outputs": []
    },
    {
      "id": "00c89990-a0c7-45ca-92d1-3e44f881a025",
      "cell_type": "markdown",
      "source": "Additionnal keywords can be taken such as `mode` which allows to alter the writing behavior:",
      "metadata": {}
    },
    {
      "id": "cc494df6-f8a2-46f0-9bee-3ec418ab69bb",
      "cell_type": "code",
      "metadata": {},
      "execution_count": null,
      "source": "# Use mode='a' to append\nu.select_atoms('resname PRO').write('residues.ndx',\n                                    name='PRO',\n                                    mode='w')\n# Use mode='w' to overwrite\nu.select_atoms('resname GLY').write('residues.ndx',\n                                    name='GLY',\n                                    mode='a')",
      "outputs": []
    },
    {
      "id": "e402988a-20f3-452d-aebb-98074748b1ea",
      "cell_type": "markdown",
      "source": "# Visualisation",
      "metadata": {
        "noteable": {
          "cell_type": "markdown"
        }
      }
    },
    {
      "id": "fcea3a5a-4bc7-4bd1-866e-225ea0f5e2a7",
      "cell_type": "markdown",
      "source": "## Plotting trajectories\nGenerally, trajectories are worked on through iteration so that only the\ninformation of the active frame are considered. A way to visualize specific\ninformation from each frame is to extract them in a list and convert them into\nother data structures such as a *Numpy* array or a *Pandas* DataFrame. This way,\nplotting with *Matplotlib* can be easier to do:",
      "metadata": {
        "noteable": {
          "cell_type": "markdown"
        }
      }
    },
    {
      "id": "6f1997e3-5370-43a4-932f-3245907946bf",
      "cell_type": "markdown",
      "source": "### Radius of gyration using *Pandas*",
      "metadata": {
        "noteable": {
          "cell_type": "markdown"
        }
      }
    },
    {
      "id": "90a76e79-f2d4-448e-ab36-d77cb2e680c9",
      "cell_type": "code",
      "metadata": {},
      "execution_count": null,
      "source": "rgyr = []\ntime = []\nprotein = u.select_atoms(\"protein\")\nfor ts in u.trajectory:\n    time.append(u.trajectory.time)\n    rgyr.append(protein.radius_of_gyration())",
      "outputs": []
    },
    {
      "id": "6f902812-8d0e-4311-b9de-58d36f122a89",
      "cell_type": "code",
      "metadata": {
        "jupyter": {
          "outputs_hidden": false,
          "source_hidden": false
        },
        "noteable": {
          "cell_type": "code"
        }
      },
      "execution_count": null,
      "source": "import pandas as pd\nrgyr_df = pd.DataFrame(rgyr, columns=['Radius of gyration (A)'], index=time)\nrgyr_df.index.name = 'Time (ps)'\n\nrgyr_df.head()",
      "outputs": []
    },
    {
      "id": "08ad596d-bd66-44ff-a3f9-1dd70a0604b8",
      "cell_type": "code",
      "metadata": {
        "jupyter": {
          "outputs_hidden": false,
          "source_hidden": false
        },
        "noteable": {
          "cell_type": "code"
        }
      },
      "execution_count": null,
      "source": "rgyr_df.plot(title='Radius of gyration')                        \nplt.show()",
      "outputs": []
    },
    {
      "id": "dfe19b5a-acf5-43df-bcd1-3de357827548",
      "cell_type": "markdown",
      "source": "### All distances between two selections using *Numpy*",
      "metadata": {}
    },
    {
      "id": "2552156e-a1bf-464d-bdcb-67e18bf1612c",
      "cell_type": "code",
      "metadata": {
        "noteable": {
          "output_collection_id": "4734ae57-8ad8-4d93-8103-f501ecfbda6a"
        },
        "ExecuteTime": {
          "end_time": "2023-11-12T23:39:36.812070+00:00",
          "start_time": "2023-11-12T23:39:35.814775+00:00"
        }
      },
      "execution_count": null,
      "source": "import MDAnalysis as mda\nfrom MDAnalysis.tests.datafiles import PDB_small\nfrom MDAnalysis.analysis import distances\n\nimport numpy as np\nimport matplotlib.pyplot as plt\n%matplotlib inline\n\nimport warnings\n# suppress some MDAnalysis warnings when writing PDB files\nwarnings.filterwarnings('ignore')",
      "outputs": []
    },
    {
      "id": "b49ea15a-73f3-4607-9779-b85f77477646",
      "cell_type": "code",
      "metadata": {
        "noteable": {
          "output_collection_id": "dabaf29f-8b28-47d2-9fab-90c7e655a2d7"
        },
        "ExecuteTime": {
          "end_time": "2023-11-12T23:39:47.473305+00:00",
          "start_time": "2023-11-12T23:39:47.269594+00:00"
        }
      },
      "execution_count": null,
      "source": "u = mda.Universe(PDB_small)   # open AdK",
      "outputs": []
    },
    {
      "id": "9067af1a-9bf7-4e18-ab66-c7ded2211bbd",
      "cell_type": "code",
      "metadata": {
        "noteable": {
          "output_collection_id": "ac7e5034-625c-4b58-aa4b-0b364c9834ca"
        },
        "ExecuteTime": {
          "end_time": "2023-11-12T23:39:49.313853+00:00",
          "start_time": "2023-11-12T23:39:49.155591+00:00"
        }
      },
      "execution_count": null,
      "source": "LID_ca = u.select_atoms('name CA and resid 122-159')\nNMP_ca = u.select_atoms('name CA and resid 30-59')\n\nn_LID = len(LID_ca)\nn_NMP = len(NMP_ca)\nprint('LID has {} residues and NMP has {} residues'.format(n_LID, n_NMP))",
      "outputs": []
    },
    {
      "id": "fb3b7362-f2cd-4bd6-9a8d-3c3e87f4bf42",
      "cell_type": "code",
      "metadata": {
        "jupyter": {
          "outputs_hidden": false,
          "source_hidden": false
        },
        "noteable": {
          "cell_type": "code",
          "output_collection_id": "5d0b32d2-7007-44f8-bbd4-b62f2cf313a1"
        },
        "ExecuteTime": {
          "end_time": "2023-11-12T23:39:53.456995+00:00",
          "start_time": "2023-11-12T23:39:53.298255+00:00"
        }
      },
      "execution_count": null,
      "source": "dist_arr = distances.distance_array(LID_ca.positions, # reference\n                                    NMP_ca.positions, # configuration\n                                    box=u.dimensions)\ndist_arr.shape",
      "outputs": []
    },
    {
      "id": "5208f834-57ad-43ff-a76a-c258d37d46e5",
      "cell_type": "code",
      "metadata": {
        "noteable": {
          "output_collection_id": "0bd6faa3-6515-4ae3-983e-4777f1156f24"
        },
        "ExecuteTime": {
          "end_time": "2023-11-12T23:39:58.095815+00:00",
          "start_time": "2023-11-12T23:39:57.547903+00:00"
        }
      },
      "execution_count": null,
      "source": "fig, ax = plt.subplots()\nim = ax.imshow(dist_arr, origin='upper')\n\n# add residue ID labels to axes\ntick_interval = 5\nax.set_yticks(np.arange(n_LID)[::tick_interval])\nax.set_xticks(np.arange(n_NMP)[::tick_interval])\nax.set_yticklabels(LID_ca.resids[::tick_interval])\nax.set_xticklabels(NMP_ca.resids[::tick_interval])\n\n# add figure labels and titles\nplt.ylabel('LID')\nplt.xlabel('NMP')\nplt.title('Distance between alpha-carbon')\n\n# colorbar\ncbar = fig.colorbar(im)\ncbar.ax.set_ylabel('Distance (Angstrom)')",
      "outputs": []
    },
    {
      "id": "97ea1f3d-04c6-4e63-82f1-cb00c76abcee",
      "cell_type": "markdown",
      "source": "## NGLView\n",
      "metadata": {
        "noteable": {
          "cell_type": "markdown"
        }
      }
    },
    {
      "id": "e40a9870-902f-419f-9dc7-a9c038f8b97e",
      "cell_type": "markdown",
      "source": "[NGL Viewer](http://nglviewer.org/) is an Interactive widget to visualize molecular structures or trajectories in Jupyter notebooks.\n\nYou can see [this tutorial](https://projects.volkamerlab.org/teachopencadd/talktorials/T017_advanced_nglview_usage.html#Custom-coloring-schemes-and-representations) from the Volkamerlab for a walkthrough of the NGLView usage.\n\n#### Visualize the starting structure\nWe first use `.show_file()` to visualize the pdb structure of the tubulin.",
      "metadata": {
        "noteable": {
          "cell_type": "markdown"
        }
      }
    },
    {
      "id": "72175ede-68d4-41d3-9189-8499d26ac031",
      "cell_type": "code",
      "metadata": {
        "noteable": {
          "output_collection_id": "059768ef-1e30-4e47-ba08-655d3e85cd71"
        },
        "ExecuteTime": {
          "end_time": "2023-11-12T11:34:58.802263+00:00",
          "start_time": "2023-11-12T11:34:58.190320+00:00"
        }
      },
      "execution_count": null,
      "source": "import nglview as nv\n\n\n# load the tubuline PDB file and display viewer widget\npdb_view = nv.show_file(\"PDB_tubuline.pdb\")\npdb_view.center()\n\npdb_view",
      "outputs": []
    },
    {
      "id": "249b5aff-2b6a-427f-ab7f-0b96bb9b5aa3",
      "cell_type": "markdown",
      "source": "#### Visualize your mdanalysis object\nFor the visualization of a mdanalysis object you can use `show_mdanalysis(univ)` that shows `MDAnalysis` Universe or AtomGroup `univ`.",
      "metadata": {}
    },
    {
      "id": "1e1c3cd3-2e79-4d2f-98ae-bba2508df90a",
      "cell_type": "code",
      "metadata": {},
      "execution_count": null,
      "source": "import MDAnalysis as mda\n\n\nreference = mda.Universe('PDB_tubuline.pdb', 'trajectoire_tubuline.dcd')\nuniv_view = nv.show_mdanalysis(reference)\n\n# Set the view on the frame 100\nuniv_view.frame = 100\n\nuniv_view",
      "outputs": []
    },
    {
      "id": "27ca19b7-86b2-4e17-a105-a9f08d503583",
      "cell_type": "markdown",
      "source": "##### Visualizing the first and last structures of the trajectory\nIt can be interesting to compare frames taken from different conformations adopted during the simulation. Thus we provide an example on how to do this comparison on the first and the last frames of our simulation.  \n\nFor a better visualization of the structural differences, a simple alignement will be performed. As the most fluctuating part of the protein where found from the residues 415 to the end, this alignement will be made one the $C\\alpha$ of the residues 0 to 415 of the protein.",
      "metadata": {}
    },
    {
      "id": "8ca6a64c-1d6a-4e4c-932e-711ce1558ee8",
      "cell_type": "code",
      "metadata": {},
      "execution_count": null,
      "source": "from MDAnalysis.analysis import align, rms\n\n\n# Create an independent copy of the mobile Universe\nref = mobile.copy()\n\n# Set the mobile trajectory on the last frame\nmobile.trajectory[-1]\n\n# Perform a structure alignment\nrmsds = align.alignto(mobile,  # mobile\n                      reference,  # reference\n                      select='name CA and resid 0-415',  # selection to operate on\n                      match_atoms=True)  # whether to match atoms\nprint(rmsds)\n\n# Create an ngl view of the structures merged into the same Universe\nex_frames_view = nv.show_mdanalysis(mda.Merge(traj_clone_1.atoms, traj_clone_2.atoms))\nex_frames_view",
      "outputs": []
    },
    {
      "id": "99921aff-a192-439c-bc7a-db92b1ba8a9a",
      "cell_type": "markdown",
      "source": "##### Comparative visualization the most mobile part movements of the tubuline",
      "metadata": {}
    },
    {
      "id": "c321cde1-e593-4080-82f3-b5a2c7b5b265",
      "cell_type": "code",
      "metadata": {
        "jupyter": {
          "outputs_hidden": false,
          "source_hidden": false
        },
        "noteable": {
          "cell_type": "code"
        }
      },
      "execution_count": null,
      "source": "# set mobile trajectory to last frame\nmobile.trajectory[-1]\n# set reference trajectory to first frame\nref.trajectory[0]\n\n# Select the alpha carbons of each universe\nmobile_ca = mobile.select_atoms('name CA')\nref_ca = ref.select_atoms('name CA')\n\n# Calculate the RMSD on the alpha carbons\nunaligned_rmsd = rms.rmsd(mobile_ca.positions, ref_ca.positions,\n                          superposition=False)\nprint(f\"Unaligned RMSD: {unaligned_rmsd:.2f}\")",
      "outputs": []
    },
    {
      "id": "3984f478-8bb8-488d-aa11-5ea36742fc83",
      "cell_type": "code",
      "metadata": {
        "jupyter": {
          "outputs_hidden": false,
          "source_hidden": false
        },
        "noteable": {
          "cell_type": "code"
        }
      },
      "execution_count": null,
      "source": "# Perform a backbone-wise alignment\naligner = align.AlignTraj(mobile, ref, select='backbone',\n                          filename='aligned_to_first_frame.dcd').run()\n\n# Provide aligned coordinates for the trajectory\nmobile = mda.Universe('PDB_tubuline.pdb', 'aligned_to_first_frame.dcd')",
      "outputs": []
    },
    {
      "id": "3410fa65-8aea-4c40-a35a-2c4ca97c831a",
      "cell_type": "code",
      "metadata": {
        "jupyter": {
          "outputs_hidden": false,
          "source_hidden": false
        },
        "noteable": {
          "cell_type": "code"
        }
      },
      "execution_count": null,
      "source": "mobile.trajectory[-1]\nref.trajectory[0]\n\nmobile_ca = mobile.select_atoms('name CA')\nref_ca = ref.select_atoms('name CA')\naligned_rmsd = rms.rmsd(mobile_ca.positions, ref_ca.positions,\n                        superposition=False)\nprint(f\"Aligned RMSD: {aligned_rmsd:.2f}\")\n\n# Create a view of the mobile trajectory\nview = nv.show_mdanalysis(mobile)\n\n# Add the pdb structure in the viewer\nview.add_component('PDB_tubuline.pdb')\n\n# Update the cartoon representation of the trajectory \nview.update_cartoon(component=0, color='blue')\nview",
      "outputs": []
    },
    {
      "id": "11f1db02-db3c-4912-91aa-a3e768ec1714",
      "cell_type": "markdown",
      "source": "# Align a trajectory on a reference",
      "metadata": {
        "noteable": {
          "cell_type": "markdown"
        }
      }
    },
    {
      "id": "4956c689-f161-4a07-9f9e-44cea2386c87",
      "cell_type": "markdown",
      "source": "In order to obtain the correct RMSD or RMSF value of the structure of the tubuline after the simulation, we need to align the protein at the begining of the simulation to itself but on the last frame of the trajectory.\n\nTo be able to do that, we will need to use a component of the anaylis module provided by MDAnalysis.\n\n\n",
      "metadata": {
        "noteable": {
          "cell_type": "markdown"
        }
      }
    },
    {
      "id": "dd12cc78-9b71-4a47-8708-16298c43c4e1",
      "cell_type": "code",
      "metadata": {
        "noteable": {
          "cell_type": "python",
          "output_collection_id": "9629f3e2-93a9-4393-b48b-1b0d3ceb1731"
        },
        "ExecuteTime": {
          "end_time": "2023-11-12T17:50:34.417941+00:00",
          "start_time": "2023-11-12T17:50:34.252530+00:00"
        }
      },
      "execution_count": null,
      "source": "from MDAnalysis.analysis import align",
      "outputs": []
    },
    {
      "id": "6e8194a2-4519-432d-8869-30c3847fbffb",
      "cell_type": "markdown",
      "source": "The analysis module contains a lot of different algorithms to extract data from the topologie and the trajectory of our system. \n\nTo perform the alignement, we will need a reference structure and a mobile one which will be aligned onto the reference.\n\nIn our case we will select the orignal pdb structure as our reference point and the tubuline in the last frame as our mobile structure.\n\nTo do that will use the function *alignto* from the align module. This function takes 8 arguments:\n\nrequired:\n- mobile (Universe | AtomGroup): the structure that will be aligned\n- reference (Universe | AtomGroup): the structure on which the alignement is based on\n\noptional:\n- select (str | dict | tuple): filter on which groups of atoms are chosen for the alignment. If a single string is used, the selection need to be valid for both the mobile and the reference AtomGroups. We can perform seperate selection filters by using a dictionnary (i.e. {'mobile': 'mySelection1', 'reference': 'mySelection2}) or a tuple.\n- match_atoms (bool): align the mobile and reference structure atom by atom.\n- weights: (\"mass\" | None | array): used in case you want to do a weighted RMSD alignement or have a different center of mass. You can either use the mass of the atoms or input an array with custom weights.\n- tol_mass (float): Threshold where the alignment will be aborted if two matching atoms differ by more than tol_mass\n- strict (bool): Raise an error if an atom is different in the mobile or reference selections.\n\nAnd in returns, we obtain a tuple containing the RMSD before the alignment and the RMSD after.",
      "metadata": {
        "noteable": {
          "cell_type": "markdown"
        }
      }
    },
    {
      "id": "5af06b16-82b3-416a-92f4-0cb8dea8de03",
      "cell_type": "code",
      "metadata": {
        "noteable": {
          "cell_type": "python"
        }
      },
      "execution_count": null,
      "source": "reference = mda.Universe('PDB_tubuline.pdb')\nmobile = mda.Universe('PDB_tubuline.pdb', 'trajectoire_tubuline.dcd')\n\n# Take the last frame of the simulation\nmobile.trajectory[-1]\n\nalign.alignto(mobile, reference, select='protein and name CA', weights='mass')\n",
      "outputs": []
    },
    {
      "id": "221d9afe-791a-44c5-aa2e-687668c4ab05",
      "cell_type": "markdown",
      "source": "# Determinate flexible loops with RMSF",
      "metadata": {
        "noteable": {
          "cell_type": "markdown"
        }
      }
    },
    {
      "id": "135a58a6-b374-4890-b2ee-e2c9c5a8fb42",
      "cell_type": "markdown",
      "source": "What means RMSF and what is it use for ?\n\nBefore explaining RMSF, let me introduce RMSD. \n- RMSD means Root Mean Square Deviation. It represents the difference between two structures and in the case of simulations, the motion of our whole structure of interest throughout the simulation. It is basically plotted as structure variation vs. time.\n\n- RMSF means Root Mean Square Fluctuation. It also shows fluctuations all over the simulations but for specific atoms or residues. It can highlight which residue or part of our structure are the most flexible. It is also plotted as residue/part of structure vs. time.",
      "metadata": {}
    },
    {
      "id": "21651159-1434-4103-b648-7b5e2b1ab46e",
      "cell_type": "markdown",
      "source": "Now that we have explained the theory, let's look at a practical example with our tubuline.",
      "metadata": {
        "noteable": {
          "cell_type": "markdown"
        }
      }
    },
    {
      "id": "16fe8055-d85a-4018-a921-760a078c907d",
      "cell_type": "code",
      "metadata": {
        "noteable": {
          "output_collection_id": "87f03cc3-16c2-423d-aa29-ed4ac0efd6bd"
        },
        "ExecuteTime": {
          "end_time": "2023-11-06T07:43:39.745874+00:00",
          "start_time": "2023-11-06T07:43:39.405200+00:00"
        }
      },
      "execution_count": null,
      "source": "# Import specific package for analysis and in this case : rms (rmsd, rmsf) \nfrom MDAnalysis.analysis import rms\n\n# First you have to select what part of your structure you want to look at\n# For now we take as example the alpha carbons of the tubulin\nc_alphas = u.select_atoms('protein and name CA')\n\n# Calculate the rmsf for alpha carbons \nR = rms.RMSF(c_alphas).run()",
      "outputs": []
    },
    {
      "id": "c1e8093d-dcc0-451a-ad44-d30bed68fc64",
      "cell_type": "code",
      "metadata": {
        "jupyter": {
          "outputs_hidden": false,
          "source_hidden": false
        },
        "noteable": {
          "cell_type": "code",
          "output_collection_id": "7a2dac8d-1574-44fe-807a-a50da0659880"
        },
        "ExecuteTime": {
          "end_time": "2023-11-06T07:43:50.692955+00:00",
          "start_time": "2023-11-06T07:43:50.319867+00:00"
        },
        "scrolled": false
      },
      "execution_count": null,
      "source": "# Import package for plotting\nimport matplotlib.pyplot as plt\n\n# Then plot your RMSF of alpha carbons\n# A graph will be displayed with RMSF values in Angstroms on y-axis and the residue indices on x-axis\nplt.plot(c_alphas.resids, R.results.rmsf)",
      "outputs": []
    },
    {
      "id": "9570994d-0fc9-4f1c-9b52-7db7a2260769",
      "cell_type": "markdown",
      "source": "# Other types of analysis featured by MDAnalysis\n\nIn addition to the functionalities presented previously, MDAnalysis offers other analysis tools.",
      "metadata": {
        "noteable": {
          "cell_type": "markdown"
        }
      }
    },
    {
      "id": "f113c5c4-d288-4954-bbd9-0d939852eb7a",
      "cell_type": "markdown",
      "source": "## Distances and contacts\n\nYou can compute distances between atoms, residues or larger sets. It can give you valuable datas :\n- How residues are close during the simulation\n- If two residues are in contact if they are within a certain distance\n- An overview of the global movement of the system by looking at number of contacts all over the simulation",
      "metadata": {
        "noteable": {
          "cell_type": "markdown"
        }
      }
    },
    {
      "id": "a047b2a4-1c9c-4dac-8bbd-1b0515eff3c3",
      "cell_type": "markdown",
      "source": "## Structure\n\n- Having an idea of dihedral angles and secondary structures\n- Calculating RDF (Radial Function Distribution) of solvent around certain atoms\n",
      "metadata": {
        "noteable": {
          "cell_type": "markdown"
        }
      }
    },
    {
      "id": "8b7e6afa-b42a-457d-a3b0-663765874eaa",
      "cell_type": "markdown",
      "source": "## Hydrogen bonds\n\nMDAnalysis has features to analyse hydrogen bonds in a Universe thanks to the function `HydrogenBondAnalysis`",
      "metadata": {
        "noteable": {
          "cell_type": "markdown"
        }
      }
    }
  ]
}