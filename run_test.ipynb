{
 "cells": [
  {
   "cell_type": "code",
   "execution_count": 1,
   "metadata": {},
   "outputs": [
    {
     "name": "stderr",
     "output_type": "stream",
     "text": [
      "c:\\Users\\martb\\miniconda3\\envs\\mdanalysis\\Lib\\site-packages\\MDAnalysis\\topology\\TPRParser.py:161: DeprecationWarning: 'xdrlib' is deprecated and slated for removal in Python 3.13\n",
      "  import xdrlib\n"
     ]
    },
    {
     "data": {
      "application/vnd.jupyter.widget-view+json": {
       "model_id": "216b316b45474289b881bf45d895a3d3",
       "version_major": 2,
       "version_minor": 0
      },
      "text/plain": []
     },
     "metadata": {},
     "output_type": "display_data"
    },
    {
     "name": "stderr",
     "output_type": "stream",
     "text": [
      "c:\\Users\\martb\\miniconda3\\envs\\mdanalysis\\Lib\\site-packages\\MDAnalysis\\coordinates\\DCD.py:165: DeprecationWarning: DCDReader currently makes independent timesteps by copying self.ts while other readers update self.ts inplace. This behavior will be changed in 3.0 to be the same as other readers. Read more at https://github.com/MDAnalysis/mdanalysis/issues/3889 to learn if this change in behavior might affect you.\n",
      "  warnings.warn(\"DCDReader currently makes independent timesteps\"\n"
     ]
    }
   ],
   "source": [
    "import MDAnalysis as mda\n",
    "import nglview as nv\n",
    "\n",
    "\n",
    "# Create two copy of the same universe\n",
    "traj_clone_1 = mda.Universe('MDAnalysis_Programmation_python_2/PDB_tubuline.pdb',\n",
    "                 'MDAnalysis_Programmation_python_2/trajectoire_tubuline.dcd')\n",
    "\n",
    "traj_clone_2 = traj_clone_1.copy()"
   ]
  },
  {
   "cell_type": "code",
   "execution_count": 2,
   "metadata": {},
   "outputs": [
    {
     "name": "stderr",
     "output_type": "stream",
     "text": [
      "c:\\Users\\martb\\miniconda3\\envs\\mdanalysis\\Lib\\site-packages\\MDAnalysis\\coordinates\\DCD.py:448: UserWarning: No dimensions set for current frame, zeroed unitcell will be written\n",
      "  warnings.warn(wmsg)\n"
     ]
    },
    {
     "data": {
      "text/plain": [
       "<MDAnalysis.analysis.align.AlignTraj at 0x2026cec7790>"
      ]
     },
     "execution_count": 2,
     "metadata": {},
     "output_type": "execute_result"
    }
   ],
   "source": [
    "from MDAnalysis.analysis import align\n",
    "\n",
    "\n",
    "# Fit a target structure on a reference structure\n",
    "align.AlignTraj(traj_clone_2,  # trajectory to align\n",
    "                traj_clone_1,  # reference\n",
    "                select='name CA',  # selection of atoms to align\n",
    "                filename='aligned.dcd',  # file to write the trajectory to\n",
    "                match_atoms=True,  # whether to match atoms based on mass\n",
    "               ).run()"
   ]
  },
  {
   "cell_type": "code",
   "execution_count": 3,
   "metadata": {},
   "outputs": [],
   "source": [
    "# Create a universe of a trajectory with frames aligned on reference\n",
    "aligned = mda.Universe('MDAnalysis_Programmation_python_2/PDB_tubuline.pdb', 'aligned.dcd')\n",
    "\n",
    "# Rename the segments for a different coloring treatment\n",
    "aligned.segments.segids = ['Moving']\n",
    "aligned.atoms.chainIDs = \"A\"\n",
    "traj_clone_1.segments.segids = ['Static']\n",
    "traj_clone_1.atoms.chainIDs = \"B\"\n",
    "\n",
    "# Merged the reference and aligned universes\n",
    "merged = mda.Merge(aligned.atoms, traj_clone_1.atoms)"
   ]
  },
  {
   "cell_type": "code",
   "execution_count": 4,
   "metadata": {},
   "outputs": [],
   "source": [
    "import numpy as np\n",
    "from MDAnalysis.analysis.base import AnalysisFromFunction\n",
    "from MDAnalysis.coordinates.memory import MemoryReader\n",
    "\n",
    "\n",
    "# Get the position of atoms of a structure\n",
    "def copy_coords(ag):\n",
    "    return ag.positions.copy()\n",
    "\n",
    "# Iterate copy_coords() over each frame of the trajectory\n",
    "aligned_coords = AnalysisFromFunction(copy_coords,\n",
    "                                      aligned.atoms).run().results\n",
    "\n",
    "# Get the number of frames\n",
    "n_frames = aligned_coords['timeseries'].shape[0]"
   ]
  },
  {
   "cell_type": "code",
   "execution_count": 5,
   "metadata": {},
   "outputs": [
    {
     "data": {
      "text/plain": [
       "(6924, 3)"
      ]
     },
     "execution_count": 5,
     "metadata": {},
     "output_type": "execute_result"
    }
   ],
   "source": [
    "# Copy the coordinates of the first frame\n",
    "first_coords = traj_clone_1.atoms.positions.copy()\n",
    "first_coords.shape"
   ]
  },
  {
   "cell_type": "code",
   "execution_count": 6,
   "metadata": {},
   "outputs": [
    {
     "data": {
      "text/plain": [
       "(1000, 6924, 3)"
      ]
     },
     "execution_count": 6,
     "metadata": {},
     "output_type": "execute_result"
    }
   ],
   "source": [
    "# Create a static trajectory for reference\n",
    "first_traj_coords = np.stack([first_coords] * n_frames)\n",
    "first_traj_coords.shape"
   ]
  },
  {
   "cell_type": "code",
   "execution_count": 7,
   "metadata": {},
   "outputs": [
    {
     "data": {
      "text/plain": [
       "<Universe with 13848 atoms>"
      ]
     },
     "execution_count": 7,
     "metadata": {},
     "output_type": "execute_result"
    }
   ],
   "source": [
    "# Stack the reference and aligned trajectories \n",
    "merged_coords = np.hstack([aligned_coords['timeseries'],\n",
    "                           first_traj_coords])\n",
    "merged.load_new(merged_coords, format=MemoryReader)"
   ]
  },
  {
   "cell_type": "code",
   "execution_count": 8,
   "metadata": {},
   "outputs": [
    {
     "data": {
      "application/vnd.jupyter.widget-view+json": {
       "model_id": "473a0b2818fa4a1d8a7139919c1af705",
       "version_major": 2,
       "version_minor": 0
      },
      "text/plain": [
       "NGLWidget(max_frame=999)"
      ]
     },
     "metadata": {},
     "output_type": "display_data"
    }
   ],
   "source": [
    "# Create an ngl view of the merged universe\n",
    "merged_view = nv.show_mdanalysis(merged, default_representation=False)\n",
    "merged_view.add_cartoon(selection=\":A and 420-450\" , color = 'green')\n",
    "merged_view.add_cartoon(selection=\":A and 0-420\" , color = 'green', opacity=0.6)\n",
    "merged_view.add_cartoon(selection=\":B\", color = 'red', opacity=0.4)\n",
    "merged_view"
   ]
  },
  {
   "cell_type": "code",
   "execution_count": 9,
   "metadata": {},
   "outputs": [
    {
     "data": {
      "application/vnd.jupyter.widget-view+json": {
       "model_id": "96001f8bcc1b4b1b89ca6a45ef1dd493",
       "version_major": 2,
       "version_minor": 0
      },
      "text/plain": [
       "IntProgress(value=0, description='Rendering ...', max=9)"
      ]
     },
     "execution_count": 9,
     "metadata": {},
     "output_type": "execute_result"
    }
   ],
   "source": [
    "from nglview.contrib.movie import MovieMaker\n",
    "\n",
    "movie = MovieMaker(\n",
    "    merged_view,\n",
    "    step=100,  # only render every 4th frame\n",
    "    output='merged.gif',\n",
    "    render_params={\"factor\": 3},  # set to 4 for higher quality\n",
    ")\n",
    "movie.make()"
   ]
  },
  {
   "cell_type": "code",
   "execution_count": 10,
   "metadata": {},
   "outputs": [
    {
     "data": {
      "application/vnd.jupyter.widget-view+json": {
       "model_id": "98587b17d52b4fdbadbc42b429e55636",
       "version_major": 2,
       "version_minor": 0
      },
      "text/plain": [
       "NGLWidget()"
      ]
     },
     "metadata": {},
     "output_type": "display_data"
    }
   ],
   "source": [
    "# load the tubuline PDB file and display viewer widget\n",
    "pdb_view = nv.show_file(\"MDAnalysis_Programmation_python_2/PDB_tubuline.pdb\")\n",
    "pdb_view.center()\n",
    "\n",
    "pdb_view"
   ]
  },
  {
   "cell_type": "code",
   "execution_count": 1,
   "metadata": {},
   "outputs": [
    {
     "data": {
      "application/vnd.jupyter.widget-view+json": {
<<<<<<< HEAD
       "model_id": "9668381433554fb48edac87037a8f62a",
=======
       "model_id": "242772bd1813453eb6985a30415b333c",
       "version_major": 2,
       "version_minor": 0
      },
      "text/plain": []
     },
     "metadata": {},
     "output_type": "display_data"
    },
    {
     "data": {
      "application/vnd.jupyter.widget-view+json": {
       "model_id": "60a3a93890f2428c86f60cabf1caa4f0",
>>>>>>> c2687a2 (ok)
       "version_major": 2,
       "version_minor": 0
      },
      "text/plain": [
       "NGLWidget(frame=100, max_frame=999)"
      ]
     },
     "metadata": {},
     "output_type": "display_data"
    }
   ],
   "source": [
    "univ_view = nv.show_mdanalysis(traj_clone_1)\n",
    "univ_view.frame = 100\n",
    "\n",
    "univ_view"
   ]
  },
  {
   "cell_type": "code",
   "execution_count": 12,
   "metadata": {},
   "outputs": [
    {
     "data": {
      "application/vnd.jupyter.widget-view+json": {
       "model_id": "f4d349e8b1cf43598ad6dcacb5501728",
       "version_major": 2,
       "version_minor": 0
      },
      "text/plain": [
       "NGLWidget()"
      ]
     },
     "metadata": {},
     "output_type": "display_data"
    }
   ],
   "source": [
    "# select the first frame of the trajectory\n",
    "traj_clone_1.trajectory[0]\n",
    "\n",
    "# select the last frame of the trajectory\n",
    "traj_clone_2.trajectory[-1] \n",
    "\n",
    "# merge the two structures\n",
    "ex_frames = mda.Merge(traj_clone_1.atoms, traj_clone_2.atoms)\n",
    "\n",
    "ex_frames_view = nv.show_mdanalysis(ex_frames)\n",
    "ex_frames_view"
   ]
  },
  {
   "cell_type": "code",
   "execution_count": null,
   "metadata": {},
   "outputs": [],
   "source": [
    "# Select the residues you want to color\n",
    "selection = u.select_atoms('resid 400:450')\n",
    "\n",
    "# Create an empty NGLView representation\n",
    "viewt = nv.show_mdanalysis(selection, default_representation=False)\n",
    "\n",
    "# Add cartoon representations for the selected residues\n",
    "viewt.add_cartoon(color=\"blue\", selection=\"440-450\")\n",
    "viewt.add_cartoon(color=\"red\", selection=\"420-440\")\n",
    "viewt.add_balls_and_sticks()\n",
    "\n",
    "# Center the view on the structure\n",
    "viewt.center()\n",
    "\n",
    "viewt"
   ]
  },
  {
   "cell_type": "code",
   "execution_count": null,
   "metadata": {},
   "outputs": [],
   "source": [
    "print(\"NGLView version:\", nv.__version__)\n",
    "for attr in dir(nv):\n",
    "    if attr.startswith(\"show_\"):\n",
    "        print(f\"  nv.{attr}(...)\")"
   ]
  },
  {
   "cell_type": "code",
   "execution_count": null,
   "metadata": {},
   "outputs": [],
   "source": [
    "for attr in dir(viewt):\n",
    "    if attr.startswith(\"add_\"):\n",
    "        print(f\"view.{attr}(...)\")"
   ]
  },
  {
   "cell_type": "code",
   "execution_count": null,
   "metadata": {},
   "outputs": [],
   "source": [
    "test = nv.show_mdanalysis(u)\n",
    "# help(nv.color)\n",
    "# print(dir(nv.color.COLOR_SCHEMES))\n",
    "?test.shape.add_sphere"
   ]
  }
 ],
 "metadata": {
  "kernelspec": {
   "display_name": "Python 3",
   "language": "python",
   "name": "python3"
  },
  "language_info": {
   "codemirror_mode": {
    "name": "ipython",
    "version": 3
   },
   "file_extension": ".py",
   "mimetype": "text/x-python",
   "name": "python",
   "nbconvert_exporter": "python",
   "pygments_lexer": "ipython3",
   "version": "3.10.8"
  }
 },
 "nbformat": 4,
 "nbformat_minor": 2
}
