{
 "cells": [
  {
   "cell_type": "code",
   "execution_count": 12,
   "metadata": {},
   "outputs": [
    {
     "name": "stderr",
     "output_type": "stream",
     "text": [
      "c:\\Users\\martb\\miniconda3\\envs\\mdanalysis\\Lib\\site-packages\\MDAnalysis\\coordinates\\DCD.py:165: DeprecationWarning: DCDReader currently makes independent timesteps by copying self.ts while other readers update self.ts inplace. This behavior will be changed in 3.0 to be the same as other readers. Read more at https://github.com/MDAnalysis/mdanalysis/issues/3889 to learn if this change in behavior might affect you.\n",
      "  warnings.warn(\"DCDReader currently makes independent timesteps\"\n"
     ]
    }
   ],
   "source": [
    "# Importing the MDAnalysis package.\n",
    "import MDAnalysis as mda\n",
    "\n",
    "# Creating the Universe object.\n",
    "u = mda.Universe('MDAnalysis_Programmation_python_2/PDB_tubuline.pdb',\n",
    "                 'MDAnalysis_Programmation_python_2/trajectoire_tubuline.dcd')\n",
    "\n",
    "u2 = mda.Universe('MDAnalysis_Programmation_python_2/PDB_tubuline.pdb',\n",
    "                 'MDAnalysis_Programmation_python_2/trajectoire_tubuline.dcd')\n",
    "\n",
    "# Create a selection of atoms to work with.\n",
    "ag = u.atoms.select_atoms('backbone')\n",
    "\n",
    "# Select all solvent within a set distance from protein atoms.\n",
    "ag = u.select_atoms('resname SOL and around 5.0 protein')\n",
    "\n",
    "# Select all heavy atoms in the first 20 residues.\n",
    "ag = u.select_atoms('resid 1:20 and not prop mass < 10.0')\n",
    "\n",
    "# Use a preexisting AtomGroup as part of another selection.\n",
    "sel1 = u.select_atoms('name N and not resname MET')\n",
    "sel2 = u.select_atoms('around 2.5 group Nsel', Nsel=sel1)\n",
    "\n",
    "# Perform a selection on another AtomGroup.\n",
    "sel1 = u.select_atoms('around 5.0 protein')\n",
    "sel2 = sel1.select_atoms('type O')"
   ]
  },
  {
   "cell_type": "code",
   "execution_count": 2,
   "metadata": {},
   "outputs": [],
   "source": [
    "# Import specific package for analysis and in this case : rms (rmsd, rmsf) \n",
    "from MDAnalysis.analysis import rms\n",
    "\n",
    "# First you have to select what part of your structure you want to look at\n",
    "# For now we take as example the alpha carbons of the tubulin\n",
    "c_alphas = u.select_atoms('protein and name CA')\n",
    "\n",
    "# Calculate the rmsf for alpha carbons \n",
    "R = rms.RMSF(c_alphas).run()"
   ]
  },
  {
   "cell_type": "code",
   "execution_count": 3,
   "metadata": {},
   "outputs": [
    {
     "data": {
      "text/plain": [
       "[<matplotlib.lines.Line2D at 0x15ccd965fd0>]"
      ]
     },
     "execution_count": 3,
     "metadata": {},
     "output_type": "execute_result"
    },
    {
     "data": {
      "image/png": "[encoded data removed]",
      "text/plain": [
       "<Figure size 640x480 with 1 Axes>"
      ]
     },
     "metadata": {},
     "output_type": "display_data"
    }
   ],
   "source": [
    "# Import package for plotting\n",
    "import matplotlib.pyplot as plt\n",
    "\n",
    "# Then plot your RMSF of alpha carbons\n",
    "# A graph will be displayed with RMSF values in Angstroms on y-axis and the residue indices on x-axis\n",
    "plt.plot(c_alphas.resids, R.results.rmsf)"
   ]
  },
  {
   "cell_type": "code",
   "execution_count": 14,
   "metadata": {},
   "outputs": [
    {
     "data": {
      "application/vnd.jupyter.widget-view+json": {
       "model_id": "1ed1871966084d038da5f99bbd0adea9",
       "version_major": 2,
       "version_minor": 0
      },
      "text/plain": [
       "NGLWidget()"
      ]
     },
     "metadata": {},
     "output_type": "display_data"
    }
   ],
   "source": [
    "import nglview as nv\n",
    "\n",
    "pdb_view = nv.show_file(\"MDAnalysis_Programmation_python_2/PDB_tubuline.pdb\")  # load the tubuline from the PDB file and display viewer widget\n",
    "pdb_view.center()\n",
    "\n",
    "pdb_view"
   ]
  },
  {
   "cell_type": "code",
   "execution_count": 15,
   "metadata": {},
   "outputs": [
    {
     "data": {
      "application/vnd.jupyter.widget-view+json": {
       "model_id": "02310d895633452da903e95e41cd7c8b",
       "version_major": 2,
       "version_minor": 0
      },
      "text/plain": [
       "NGLWidget(max_frame=999)"
      ]
     },
     "metadata": {},
     "output_type": "display_data"
    }
   ],
   "source": [
    "univ_view = nv.show_mdanalysis(u)\n",
    "univ_view.center()\n",
    "\n",
    "univ_view"
   ]
  },
  {
   "cell_type": "code",
   "execution_count": 13,
   "metadata": {},
   "outputs": [
    {
     "data": {
      "application/vnd.jupyter.widget-view+json": {
       "model_id": "59f739e55e6d43a78092d66b256c63ce",
       "version_major": 2,
       "version_minor": 0
      },
      "text/plain": [
       "NGLWidget()"
      ]
     },
     "metadata": {},
     "output_type": "display_data"
    }
   ],
   "source": [
    "\n",
    "u.trajectory[0] # select the first frame of the trajectory\n",
    "u2.trajectory[-1] # select the last frame of the trajectory\n",
    "\n",
    "merged = mda.Merge(u.atoms, u2.atoms) # merge the two structures\n",
    "\n",
    "ff_view = nv.show_mdanalysis(merged)\n",
    "ff_view"
   ]
  },
  {
   "cell_type": "code",
   "execution_count": null,
   "metadata": {},
   "outputs": [
    {
     "data": {
      "application/vnd.jupyter.widget-view+json": {
       "model_id": "f0282172e3904e44b4c3ec2abd2c9775",
       "version_major": 2,
       "version_minor": 0
      },
      "text/plain": [
       "NGLWidget(max_frame=999)"
      ]
     },
     "metadata": {},
     "output_type": "display_data"
    }
   ],
   "source": [
    "# Select the residues you want to color\n",
    "selection = u.select_atoms('resid 400:450')\n",
    "\n",
    "# Create an empty NGLView representation\n",
    "viewt = nv.show_mdanalysis(selection, default_representation=False)\n",
    "\n",
    "# Add cartoon representations for the selected residues\n",
    "viewt.add_cartoon(color=\"blue\", selection=\"440-450\")\n",
    "viewt.add_cartoon(color=\"red\", selection=\"420-440\")\n",
    "\n",
    "# Center the view on the structure\n",
    "viewt.center()\n",
    "\n",
    "viewt"
   ]
  }
 ],
 "metadata": {
  "kernelspec": {
   "display_name": "Python 3",
   "language": "python",
   "name": "python3"
  },
  "language_info": {
   "codemirror_mode": {
    "name": "ipython",
    "version": 3
   },
   "file_extension": ".py",
   "mimetype": "text/x-python",
   "name": "python",
   "nbconvert_exporter": "python",
   "pygments_lexer": "ipython3",
   "version": "3.11.0"
  }
 },
 "nbformat": 4,
 "nbformat_minor": 2
}
