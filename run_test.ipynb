{
 "cells": [
  {
   "cell_type": "code",
   "execution_count": 2,
   "metadata": {},
   "outputs": [
    {
     "name": "stderr",
     "output_type": "stream",
     "text": [
      "/home/codespace/.python/current/lib/python3.10/site-packages/MDAnalysis/coordinates/DCD.py:165: DeprecationWarning: DCDReader currently makes independent timesteps by copying self.ts while other readers update self.ts inplace. This behavior will be changed in 3.0 to be the same as other readers. Read more at https://github.com/MDAnalysis/mdanalysis/issues/3889 to learn if this change in behavior might affect you.\n",
      "  warnings.warn(\"DCDReader currently makes independent timesteps\"\n"
     ]
    }
   ],
   "source": [
    "# Importing the MDAnalysis package.\n",
    "import MDAnalysis as mda\n",
    "\n",
    "# Creating the Universe object.\n",
    "u = mda.Universe('MDAnalysis_Programmation_python_2/PDB_tubuline.pdb',\n",
    "                 'MDAnalysis_Programmation_python_2/trajectoire_tubuline.dcd')\n",
    "\n",
    "# Create a selection of atoms to work with.\n",
    "ag = u.atoms.select_atoms('backbone')\n",
    "\n",
    "# Select all solvent within a set distance from protein atoms.\n",
    "ag = u.select_atoms('resname SOL and around 5.0 protein')\n",
    "\n",
    "# Select all heavy atoms in the first 20 residues.\n",
    "ag = u.select_atoms('resid 1:20 and not prop mass < 10.0')\n",
    "\n",
    "# Use a preexisting AtomGroup as part of another selection.\n",
    "sel1 = u.select_atoms('name N and not resname MET')\n",
    "sel2 = u.select_atoms('around 2.5 group Nsel', Nsel=sel1)\n",
    "\n",
    "# Perform a selection on another AtomGroup.\n",
    "sel1 = u.select_atoms('around 5.0 protein')\n",
    "sel2 = sel1.select_atoms('type O')"
   ]
  },
  {
   "cell_type": "code",
   "execution_count": 3,
   "metadata": {},
   "outputs": [],
   "source": [
    "# Import specific package for analysis and in this case : rms (rmsd, rmsf) \n",
    "from MDAnalysis.analysis import rms\n",
    "\n",
    "# First you have to select what part of your structure you want to look at\n",
    "# For now we take as example the alpha carbons of the tubulin\n",
    "c_alphas = u.select_atoms('protein and name CA')\n",
    "\n",
    "# Calculate the rmsf for alpha carbons \n",
    "R = rms.RMSF(c_alphas).run()"
   ]
  },
  {
   "cell_type": "code",
   "execution_count": 4,
   "metadata": {},
   "outputs": [
    {
     "data": {
      "text/plain": [
       "[<matplotlib.lines.Line2D at 0x7fbfc139c370>]"
      ]
     },
     "execution_count": 4,
     "metadata": {},
     "output_type": "execute_result"
    },
    {
     "data": {
      "image/png": "[encoded data removed]",
      "text/plain": [
       "<Figure size 640x480 with 1 Axes>"
      ]
     },
     "metadata": {},
     "output_type": "display_data"
    }
   ],
   "source": [
    "# Import package for plotting\n",
    "import matplotlib.pyplot as plt\n",
    "\n",
    "# Then plot your RMSF of alpha carbons\n",
    "# A graph will be displayed with RMSF values in Angstroms on y-axis and the residue indices on x-axis\n",
    "plt.plot(c_alphas.resids, R.results.rmsf)"
   ]
  },
  {
   "cell_type": "code",
   "execution_count": 5,
   "metadata": {},
   "outputs": [
    {
     "data": {
      "application/vnd.jupyter.widget-view+json": {
       "model_id": "4a1e2d6378284eb8b746adace1deef92",
       "version_major": 2,
       "version_minor": 0
      },
      "text/plain": []
     },
     "metadata": {},
     "output_type": "display_data"
    },
    {
     "data": {
      "application/vnd.jupyter.widget-view+json": {
       "model_id": "ac2e31c73f4649c8858431c24459c960",
       "version_major": 2,
       "version_minor": 0
      },
      "text/plain": [
       "NGLWidget()"
      ]
     },
     "metadata": {},
     "output_type": "display_data"
    }
   ],
   "source": [
    "import nglview as nv\n",
    "\n",
    "view = nv.show_file(\"MDAnalysis_Programmation_python_2/PDB_tubuline.pdb\")  # load the tubuline from the PDB file and display viewer widget\n",
    "view"
   ]
  },
  {
   "cell_type": "code",
   "execution_count": 6,
   "metadata": {},
   "outputs": [
    {
     "data": {
      "application/vnd.jupyter.widget-view+json": {
       "model_id": "ad546ce6182b471dbd4566f46c87d2b1",
       "version_major": 2,
       "version_minor": 0
      },
      "text/plain": [
       "NGLWidget(max_frame=999)"
      ]
     },
     "metadata": {},
     "output_type": "display_data"
    }
   ],
   "source": [
    "mz_view = nv.show_mdanalysis(u)\n",
    "mz_view"
   ]
  },
  {
   "cell_type": "code",
   "execution_count": 7,
   "metadata": {},
   "outputs": [
    {
     "data": {
      "application/vnd.jupyter.widget-view+json": {
       "model_id": "ff36a79f4ed6414fbae6171e78860aa9",
       "version_major": 2,
       "version_minor": 0
      },
      "text/plain": [
       "NGLWidget(max_frame=999)"
      ]
     },
     "metadata": {},
     "output_type": "display_data"
    }
   ],
   "source": [
    "# Create an NGLView widget\n",
    "res_view = nv.show_mdanalysis(u.select_atoms(\"resid 400:450\"))\n",
    "\n",
    "# Display the widget\n",
    "res_view"
   ]
  },
  {
   "cell_type": "code",
   "execution_count": 8,
   "metadata": {},
   "outputs": [
    {
     "ename": "NameError",
     "evalue": "name 'u2' is not defined",
     "output_type": "error",
     "traceback": [
      "\u001b[0;31m---------------------------------------------------------------------------\u001b[0m",
      "\u001b[0;31mNameError\u001b[0m                                 Traceback (most recent call last)",
      "\u001b[1;32m/workspaces/MDAnalysis_ISDD/run_test.ipynb Cellule 7\u001b[0m line \u001b[0;36m2\n\u001b[1;32m      <a href='vscode-notebook-cell://codespaces%2Bglowing-meme-xgjx6rqrj76f479/workspaces/MDAnalysis_ISDD/run_test.ipynb#W6sdnNjb2RlLXJlbW90ZQ%3D%3D?line=0'>1</a>\u001b[0m first_frame \u001b[39m=\u001b[39m u\u001b[39m.\u001b[39mtrajectory[\u001b[39m0\u001b[39m]\n\u001b[0;32m----> <a href='vscode-notebook-cell://codespaces%2Bglowing-meme-xgjx6rqrj76f479/workspaces/MDAnalysis_ISDD/run_test.ipynb#W6sdnNjb2RlLXJlbW90ZQ%3D%3D?line=1'>2</a>\u001b[0m last_frame \u001b[39m=\u001b[39m u2\u001b[39m.\u001b[39mtrajectory[\u001b[39m-\u001b[39m\u001b[39m1\u001b[39m]\n\u001b[1;32m      <a href='vscode-notebook-cell://codespaces%2Bglowing-meme-xgjx6rqrj76f479/workspaces/MDAnalysis_ISDD/run_test.ipynb#W6sdnNjb2RlLXJlbW90ZQ%3D%3D?line=3'>4</a>\u001b[0m merged \u001b[39m=\u001b[39m mda\u001b[39m.\u001b[39mMerge(u\u001b[39m.\u001b[39matoms, u2\u001b[39m.\u001b[39matoms)\n\u001b[1;32m      <a href='vscode-notebook-cell://codespaces%2Bglowing-meme-xgjx6rqrj76f479/workspaces/MDAnalysis_ISDD/run_test.ipynb#W6sdnNjb2RlLXJlbW90ZQ%3D%3D?line=5'>6</a>\u001b[0m ff_view \u001b[39m=\u001b[39m nv\u001b[39m.\u001b[39mshow_mdanalysis(merged)\n",
      "\u001b[0;31mNameError\u001b[0m: name 'u2' is not defined"
     ]
    }
   ],
   "source": [
    "first_frame = u.trajectory[0]\n",
    "last_frame = u2.trajectory[-1]\n",
    "\n",
    "merged = mda.Merge(u.atoms, u2.atoms)\n",
    "\n",
    "ff_view = nv.show_mdanalysis(merged)\n",
    "ff_view"
   ]
  },
  {
   "cell_type": "code",
   "execution_count": 25,
   "metadata": {},
   "outputs": [
    {
     "data": {
      "application/vnd.jupyter.widget-view+json": {
       "model_id": "1fa52e91bd1b4f93a0d4f347559f549a",
       "version_major": 2,
       "version_minor": 0
      },
      "text/plain": [
       "NGLWidget(max_frame=999)"
      ]
     },
     "metadata": {},
     "output_type": "display_data"
    }
   ],
   "source": [
    "# Select the residues you want to color\n",
    "selection = u.select_atoms('resid 400:450')\n",
    "\n",
    "# Create an NGLView representation for the selected residues\n",
    "viewt = nv.show_mdanalysis(selection, default_representation=False)\n",
    "viewt.add_cartoon(color=\"blue\", selection=\"440-450\")\n",
    "viewt.add_cartoon(color=\"red\", selection=\"420-439\")\n",
    "viewt.center()\n",
    "\n",
    "# viewt.representations = [\n",
    "#     {\"type\": \"cartoon\", \"params\": {\n",
    "#         \"sele\": \"protein\", \"color\": \"blue\"\n",
    "#     }},\n",
    "#     {\"type\": \"cartoon\", \"params\": {\n",
    "#         \"sele\": \"440-450\", \"color\": \"red\"\n",
    "#     }}\n",
    "# ]\n",
    "\n",
    "viewt"
   ]
  }
 ],
 "metadata": {
  "kernelspec": {
   "display_name": "Python 3",
   "language": "python",
   "name": "python3"
  },
  "language_info": {
   "codemirror_mode": {
    "name": "ipython",
    "version": 3
   },
   "file_extension": ".py",
   "mimetype": "text/x-python",
   "name": "python",
   "nbconvert_exporter": "python",
   "pygments_lexer": "ipython3",
   "version": "3.10.8"
  }
 },
 "nbformat": 4,
 "nbformat_minor": 2
}
