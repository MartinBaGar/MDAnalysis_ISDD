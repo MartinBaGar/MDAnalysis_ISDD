{
 "cells": [
  {
   "cell_type": "code",
   "execution_count": 1,
   "metadata": {},
   "outputs": [
    {
     "name": "stderr",
     "output_type": "stream",
     "text": [
      "c:\\Users\\martb\\miniconda3\\envs\\mdanalysis\\Lib\\site-packages\\MDAnalysis\\topology\\TPRParser.py:161: DeprecationWarning: 'xdrlib' is deprecated and slated for removal in Python 3.13\n",
      "  import xdrlib\n",
      "c:\\Users\\martb\\miniconda3\\envs\\mdanalysis\\Lib\\site-packages\\MDAnalysis\\coordinates\\DCD.py:165: DeprecationWarning: DCDReader currently makes independent timesteps by copying self.ts while other readers update self.ts inplace. This behavior will be changed in 3.0 to be the same as other readers. Read more at https://github.com/MDAnalysis/mdanalysis/issues/3889 to learn if this change in behavior might affect you.\n",
      "  warnings.warn(\"DCDReader currently makes independent timesteps\"\n"
     ]
    }
   ],
   "source": [
    "import MDAnalysis as mda\n",
    "from MDAnalysis.analysis import align, rms\n",
    "import nglview as nv\n",
    "\n",
    "mobile = mda.Universe('MDAnalysis_Programmation_python_2/PDB_tubuline.pdb',\n",
    "                 'MDAnalysis_Programmation_python_2/trajectoire_tubuline.dcd')\n",
    "\n",
    "ref = mobile.copy()"
   ]
  },
  {
   "cell_type": "code",
   "execution_count": 2,
   "metadata": {},
   "outputs": [
    {
     "name": "stdout",
     "output_type": "stream",
     "text": [
      "Unaligned RMSD: 0.00\n"
     ]
    }
   ],
   "source": [
    "mobile.trajectory[-1]  # set mobile trajectory to last frame\n",
    "ref.trajectory[0]  # set reference trajectory to first frame\n",
    "\n",
    "mobile_ca = mobile.select_atoms('name CA')\n",
    "ref_ca = ref.select_atoms('name CA')\n",
    "unaligned_rmsd = rms.rmsd(mobile_ca.positions, ref_ca.positions,\n",
    "                          superposition=False)\n",
    "print(f\"Unaligned RMSD: {unaligned_rmsd:.2f}\")"
   ]
  },
  {
   "cell_type": "code",
   "execution_count": 3,
   "metadata": {},
   "outputs": [
    {
     "name": "stderr",
     "output_type": "stream",
     "text": [
      "c:\\Users\\martb\\miniconda3\\envs\\mdanalysis\\Lib\\site-packages\\MDAnalysis\\coordinates\\DCD.py:448: UserWarning: No dimensions set for current frame, zeroed unitcell will be written\n",
      "  warnings.warn(wmsg)\n"
     ]
    }
   ],
   "source": [
    "aligner = align.AlignTraj(mobile, ref, select='backbone',\n",
    "                          filename='aligned_to_first_frame.dcd').run()\n",
    "mobile = mda.Universe('MDAnalysis_Programmation_python_2/PDB_tubuline.pdb',\n",
    "                      'aligned_to_first_frame.dcd')"
   ]
  },
  {
   "cell_type": "code",
   "execution_count": 4,
   "metadata": {},
   "outputs": [
    {
     "data": {
      "application/vnd.jupyter.widget-view+json": {
       "model_id": "dfea03768efa45d3bfc672ab37c77cf4",
       "version_major": 2,
       "version_minor": 0
      },
      "text/plain": []
     },
     "metadata": {},
     "output_type": "display_data"
    },
    {
     "name": "stdout",
     "output_type": "stream",
     "text": [
      "Aligned RMSD: 7.93\n"
     ]
    },
    {
     "data": {
      "application/vnd.jupyter.widget-view+json": {
       "model_id": "44fd243b5f46486bae13bc3c88d28581",
       "version_major": 2,
       "version_minor": 0
      },
      "text/plain": [
       "NGLWidget(max_frame=999)"
      ]
     },
     "metadata": {},
     "output_type": "display_data"
    }
   ],
   "source": [
    "mobile.trajectory[-1]  # set mobile trajectory to last frame\n",
    "ref.trajectory[0]  # set reference trajectory to first frame\n",
    "\n",
    "mobile_ca = mobile.select_atoms('name CA')\n",
    "ref_ca = ref.select_atoms('name CA')\n",
    "aligned_rmsd = rms.rmsd(mobile_ca.positions, ref_ca.positions,\n",
    "                        superposition=False)\n",
    "print(f\"Aligned RMSD: {aligned_rmsd:.2f}\")\n",
    "\n",
    "view = nv.show_mdanalysis(mobile)\n",
    "view.add_component('MDAnalysis_Programmation_python_2/PDB_tubuline.pdb')\n",
    "view.update_cartoon(component=0, color='blue')\n",
    "view"
   ]
  },
  {
   "cell_type": "code",
   "execution_count": 5,
   "metadata": {},
   "outputs": [
    {
     "name": "stderr",
     "output_type": "stream",
     "text": [
      "c:\\Users\\martb\\miniconda3\\envs\\mdanalysis\\Lib\\site-packages\\MDAnalysis\\coordinates\\DCD.py:165: DeprecationWarning: DCDReader currently makes independent timesteps by copying self.ts while other readers update self.ts inplace. This behavior will be changed in 3.0 to be the same as other readers. Read more at https://github.com/MDAnalysis/mdanalysis/issues/3889 to learn if this change in behavior might affect you.\n",
      "  warnings.warn(\"DCDReader currently makes independent timesteps\"\n",
      "c:\\Users\\martb\\miniconda3\\envs\\mdanalysis\\Lib\\site-packages\\MDAnalysis\\coordinates\\DCD.py:448: UserWarning: No dimensions set for current frame, zeroed unitcell will be written\n",
      "  warnings.warn(wmsg)\n"
     ]
    },
    {
     "name": "stdout",
     "output_type": "stream",
     "text": [
      "Unaligned RMSD: 28.83\n",
      "Aligned RMSD: 7.93\n"
     ]
    },
    {
     "data": {
      "application/vnd.jupyter.widget-view+json": {
       "model_id": "d55a05a7220044fe97966d2b2c369132",
       "version_major": 2,
       "version_minor": 0
      },
      "text/plain": [
       "NGLWidget(max_frame=999)"
      ]
     },
     "metadata": {},
     "output_type": "display_data"
    }
   ],
   "source": [
    "import MDAnalysis as mda\n",
    "from MDAnalysis.analysis import align, rms\n",
    "import nglview as nv\n",
    "\n",
    "# Load mobile and reference trajectories\n",
    "mobile = mda.Universe('MDAnalysis_Programmation_python_2/PDB_tubuline.pdb',\n",
    "                'MDAnalysis_Programmation_python_2/trajectoire_tubuline.dcd')\n",
    "\n",
    "ref = mda.Universe('MDAnalysis_Programmation_python_2/PDB_tubuline.pdb',\n",
    "                'MDAnalysis_Programmation_python_2/trajectoire_tubuline.dcd')\n",
    "\n",
    "# Set mobile trajectory to the last frame\n",
    "mobile.trajectory[-1]\n",
    "\n",
    "# Set reference trajectory to the first frame\n",
    "ref.trajectory[0]\n",
    "\n",
    "# Select alpha-carbons\n",
    "mobile_ca = mobile.select_atoms('name CA')\n",
    "ref_ca = ref.select_atoms('name CA')\n",
    "\n",
    "# Calculate unaligned RMSD\n",
    "unaligned_rmsd = rms.rmsd(mobile_ca.positions, ref_ca.positions, superposition=False)\n",
    "print(f\"Unaligned RMSD: {unaligned_rmsd:.2f}\")\n",
    "\n",
    "# Align trajectories\n",
    "aligner = align.AlignTraj(mobile, ref, select='backbone',\n",
    "                          filename='aligned_to_first_frame.dcd').run()\n",
    "\n",
    "# Load the aligned trajectory\n",
    "aligned_mobile = mda.Universe('MDAnalysis_Programmation_python_2/PDB_tubuline.pdb', 'aligned_to_first_frame.dcd')\n",
    "\n",
    "# Set mobile trajectory to the last frame\n",
    "aligned_mobile.trajectory[-1]\n",
    "\n",
    "# Set reference trajectory to the first frame\n",
    "ref.trajectory[0]\n",
    "\n",
    "# Select alpha-carbons\n",
    "aligned_mobile_ca = aligned_mobile.select_atoms('name CA')\n",
    "\n",
    "# Calculate aligned RMSD\n",
    "aligned_rmsd = rms.rmsd(aligned_mobile_ca.positions, ref_ca.positions, superposition=False)\n",
    "print(f\"Aligned RMSD: {aligned_rmsd:.2f}\")\n",
    "\n",
    "# Visualize using NGLView\n",
    "view = nv.show_mdanalysis(aligned_mobile)\n",
    "# view.add_representation('ball+stick', selection='protein')\n",
    "view.add_component('MDAnalysis_Programmation_python_2/PDB_tubuline.pdb')\n",
    "view.center()\n",
    "view.camera = 'orthographic'  # optional, use orthographic projection\n",
    "view"
   ]
  }
 ],
 "metadata": {
  "kernelspec": {
   "display_name": "mdanalysis",
   "language": "python",
   "name": "python3"
  },
  "language_info": {
   "codemirror_mode": {
    "name": "ipython",
    "version": 3
   },
   "file_extension": ".py",
   "mimetype": "text/x-python",
   "name": "python",
   "nbconvert_exporter": "python",
   "pygments_lexer": "ipython3",
   "version": "3.11.0"
  }
 },
 "nbformat": 4,
 "nbformat_minor": 2
}
