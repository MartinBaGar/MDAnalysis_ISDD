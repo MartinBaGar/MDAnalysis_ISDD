{
 "cells": [
  {
   "cell_type": "markdown",
   "metadata": {},
   "source": [
    "# Data storage\n",
    "## Which modules ?\n",
    "- Which file formats are accepted ?  \n",
    "  See this https://userguide.mdanalysis.org/stable/formats/index.html\n",
    "\n",
    "### Working with:\n",
    "#### Trajectories\n",
    "Generally, trajectories are worked on through iteration so that only the information of the active frame are considered. A way to worked with specific information from each frame is to extract them in a list and convert them into other data structures such as numpy array or pandas DataFrame. This way, plotting can be easier to do:"
   ]
  },
  {
   "cell_type": "code",
   "execution_count": null,
   "metadata": {},
   "outputs": [],
   "source": [
    "rgyr = []\n",
    "time = []\n",
    "protein = u.select_atoms(\"protein\")\n",
    "for ts in u.trajectory:\n",
    "    time.append(u.trajectory.time)\n",
    "    rgyr.append(protein.radius_of_gyration())"
   ]
  },
  {
   "cell_type": "code",
   "execution_count": null,
   "metadata": {},
   "outputs": [],
   "source": [
    "import pandas as pd\n",
    "rgyr_df = pd.DataFrame(rgyr, columns=['Radius of gyration (A)'], index=time)\n",
    "rgyr_df.index.name = 'Time (ps)'\n",
    "\n",
    "rgyr_df.head()"
   ]
  },
  {
   "cell_type": "code",
   "execution_count": null,
   "metadata": {},
   "outputs": [],
   "source": [
    "rgyr_df.plot(title='Radius of gyration')                        \n",
    "plt.show()"
   ]
  },
  {
   "cell_type": "markdown",
   "metadata": {},
   "source": [
    "### Writing data out\n",
    "See this https://userguide.mdanalysis.org/stable/reading_and_writing.html#output\n",
    "\n",
    "\n",
    "You can select the writing format by using the write() method and choosing the corresponding file extension:\n",
    "\n",
    "#### For a frame"
   ]
  },
  {
   "cell_type": "code",
   "execution_count": null,
   "metadata": {},
   "outputs": [],
   "source": [
    "ca = u.select_atoms('name CA')\n",
    "ca.write('calphas.gro')"
   ]
  },
  {
   "cell_type": "markdown",
   "metadata": {},
   "source": [
    "#### For a trajectory"
   ]
  },
  {
   "cell_type": "markdown",
   "metadata": {},
   "source": [
    "# Data visualization\n",
    "## Which modules ?\n",
    "\n",
    "## NGL Viewer\n",
    "- What is NGL Viewer\n",
    "    It is an Interactive widget to visualize molecular structures or trajectories in Jupyter notebooks. It has specific functions to show your object.\n",
    "\n",
    "### Visualize the starting structure\n",
    "Here we first use `.show_file()` to visualize the raw structure of the tubulin."
   ]
  },
  {
   "cell_type": "code",
   "execution_count": 1,
   "metadata": {},
   "outputs": [
    {
     "data": {
      "application/vnd.jupyter.widget-view+json": {
       "model_id": "bdbcde0b64764f4390bbf7720ff1349f",
       "version_major": 2,
       "version_minor": 0
      },
      "text/plain": []
     },
     "metadata": {},
     "output_type": "display_data"
    },
    {
     "data": {
      "application/vnd.jupyter.widget-view+json": {
       "model_id": "d8a3e20b5cfb40f98d4ec81527d554e9",
       "version_major": 2,
       "version_minor": 0
      },
      "text/plain": [
       "NGLWidget()"
      ]
     },
     "metadata": {},
     "output_type": "display_data"
    }
   ],
   "source": [
    "import nglview as nv\n",
    "\n",
    "view = nv.show_file(\"MDAnalysis_Programmation_python_2/PDB_tubuline.pdb\")  # load the tubuline from the PDB file and display viewer widget\n",
    "view"
   ]
  },
  {
   "cell_type": "markdown",
   "metadata": {},
   "source": [
    "### Visualize your mdanalysis object\n",
    "For the visualization of a mdanalysis object you can use `show_mdanalysis(univ)` that shows `MDAnalysis` Universe or AtomGroup `univ`. In our project we decided to show the first and the last frame of the trajectory to show the how the structure moved, and to show the movements of the most mobile area of the tubuluine during the dynamic simulation.\n",
    "\n",
    "#### Visualizing the first and last structures of the trajectory"
   ]
  },
  {
   "cell_type": "code",
   "execution_count": null,
   "metadata": {},
   "outputs": [],
   "source": [
    "mobile_zone = u.select_atoms(\"resid ...\")\n",
    "\n",
    "mz_view = nv.show_mdanalysis(mobile_zone)\n",
    "mz_view"
   ]
  },
  {
   "cell_type": "markdown",
   "metadata": {},
   "source": [
    "### Visualizing a trajectory"
   ]
  },
  {
   "cell_type": "code",
   "execution_count": null,
   "metadata": {},
   "outputs": [],
   "source": [
    "# set the frame number\n",
    "view.frame = 100\n",
    "\n",
    "# adding new trajectory\n",
    "view.add_trajectory(traj)"
   ]
  },
  {
   "cell_type": "markdown",
   "metadata": {},
   "source": [
    "## Pymol\n",
    "A\n",
    "\n",
    "## VMD"
   ]
  },
  {
   "cell_type": "code",
   "execution_count": null,
   "metadata": {},
   "outputs": [],
   "source": []
  }
 ],
 "metadata": {
  "kernelspec": {
   "display_name": "Python 3",
   "language": "python",
   "name": "python3"
  },
  "language_info": {
   "codemirror_mode": {
    "name": "ipython",
    "version": 3
   },
   "file_extension": ".py",
   "mimetype": "text/x-python",
   "name": "python",
   "nbconvert_exporter": "python",
   "pygments_lexer": "ipython3",
   "version": "3.10.8"
  }
 },
 "nbformat": 4,
 "nbformat_minor": 2
}
